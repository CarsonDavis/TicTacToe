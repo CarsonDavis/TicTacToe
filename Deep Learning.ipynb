{
 "cells": [
  {
   "cell_type": "code",
   "execution_count": 1,
   "metadata": {},
   "outputs": [
    {
     "name": "stderr",
     "output_type": "stream",
     "text": [
      "Using TensorFlow backend.\n"
     ]
    }
   ],
   "source": [
    "import numpy as np\n",
    "import json\n",
    "from keras.utils.np_utils import to_categorical\n",
    "import time"
   ]
  },
  {
   "cell_type": "code",
   "execution_count": 2,
   "metadata": {},
   "outputs": [],
   "source": [
    "with open('random_ai_training_data.json') as json_file:\n",
    "    training = json.load(json_file)"
   ]
  },
  {
   "cell_type": "code",
   "execution_count": 4,
   "metadata": {},
   "outputs": [],
   "source": [
    "x_train = np.array(training['boards'])"
   ]
  },
  {
   "cell_type": "code",
   "execution_count": 6,
   "metadata": {},
   "outputs": [],
   "source": [
    "one_hot_moves = to_categorical(training['moves'])"
   ]
  },
  {
   "cell_type": "code",
   "execution_count": 10,
   "metadata": {},
   "outputs": [],
   "source": [
    "x_val = x_train[:10000]\n",
    "partial_x_train = x_train[10000:]\n",
    "\n",
    "y_val = one_hot_moves[:10000]\n",
    "partial_y_train = one_hot_moves[10000:]"
   ]
  },
  {
   "cell_type": "code",
   "execution_count": 20,
   "metadata": {},
   "outputs": [
    {
     "name": "stdout",
     "output_type": "stream",
     "text": [
      "Train on 52037 samples, validate on 10000 samples\n",
      "Epoch 1/10\n",
      "52037/52037 [==============================] - 1s 12us/step - loss: 2.0635 - acc: 0.2393 - val_loss: 1.9133 - val_acc: 0.3082\n",
      "Epoch 2/10\n",
      "52037/52037 [==============================] - 0s 6us/step - loss: 1.8009 - acc: 0.3158 - val_loss: 1.7234 - val_acc: 0.3133\n",
      "Epoch 3/10\n",
      "52037/52037 [==============================] - 0s 6us/step - loss: 1.6716 - acc: 0.3206 - val_loss: 1.6442 - val_acc: 0.3113\n",
      "Epoch 4/10\n",
      "52037/52037 [==============================] - 0s 6us/step - loss: 1.6172 - acc: 0.3179 - val_loss: 1.6156 - val_acc: 0.3120\n",
      "Epoch 5/10\n",
      "52037/52037 [==============================] - 0s 6us/step - loss: 1.5930 - acc: 0.3191 - val_loss: 1.5972 - val_acc: 0.3154\n",
      "Epoch 6/10\n",
      "52037/52037 [==============================] - 0s 5us/step - loss: 1.5805 - acc: 0.3193 - val_loss: 1.5947 - val_acc: 0.3119\n",
      "Epoch 7/10\n",
      "52037/52037 [==============================] - 0s 6us/step - loss: 1.5747 - acc: 0.3211 - val_loss: 1.5857 - val_acc: 0.3141\n",
      "Epoch 8/10\n",
      "52037/52037 [==============================] - 0s 6us/step - loss: 1.5690 - acc: 0.3239 - val_loss: 1.5822 - val_acc: 0.3098\n",
      "Epoch 9/10\n",
      "52037/52037 [==============================] - 0s 6us/step - loss: 1.5666 - acc: 0.3233 - val_loss: 1.5871 - val_acc: 0.3128\n",
      "Epoch 10/10\n",
      "52037/52037 [==============================] - 0s 6us/step - loss: 1.5636 - acc: 0.3256 - val_loss: 1.5771 - val_acc: 0.3156\n",
      "3.599144458770752\n"
     ]
    }
   ],
   "source": [
    "from keras import models\n",
    "from keras import layers\n",
    "from keras import optimizers\n",
    "from keras import losses\n",
    "from keras import metrics\n",
    "\n",
    "model = models.Sequential()\n",
    "\n",
    "model.add(layers.Dense(81, activation = 'relu', input_shape = (9,)))\n",
    "model.add(layers.Dense(81, activation = 'relu', input_shape = (9,)))\n",
    "model.add(layers.Dense(81, activation = 'relu', input_shape = (9,)))\n",
    "model.add(layers.Dense(9, activation = 'softmax'))\n",
    "\n",
    "\n",
    "\n",
    "model.compile(optimizer = 'rmsprop',\n",
    "             loss = 'categorical_crossentropy',\n",
    "             metrics = ['accuracy'])\n",
    "\n",
    "\n",
    "# train the network\n",
    "now = time.time()\n",
    "\n",
    "history = model.fit(partial_x_train,\n",
    "                   partial_y_train,\n",
    "                   epochs=10,\n",
    "                   batch_size = 512,\n",
    "                   validation_data = (x_val, y_val))\n",
    "\n",
    "print(time.time()-now)\n",
    "\n",
    "# print(model.evaluate(x_test, one_hot_test_labels))"
   ]
  },
  {
   "cell_type": "code",
   "execution_count": 34,
   "metadata": {},
   "outputs": [
    {
     "data": {
      "text/plain": [
       "array([[0.12536095, 0.10221725, 0.11943597, 0.09634156, 0.13534363,\n",
       "        0.0961914 , 0.1141284 , 0.11071   , 0.10027086]], dtype=float32)"
      ]
     },
     "execution_count": 34,
     "metadata": {},
     "output_type": "execute_result"
    }
   ],
   "source": [
    "model.predict(np.array([[0,0,0,0,0,0,0,0,0]]))"
   ]
  },
  {
   "cell_type": "code",
   "execution_count": null,
   "metadata": {},
   "outputs": [],
   "source": []
  }
 ],
 "metadata": {
  "kernelspec": {
   "display_name": "Python 3",
   "language": "python",
   "name": "python3"
  },
  "language_info": {
   "codemirror_mode": {
    "name": "ipython",
    "version": 3
   },
   "file_extension": ".py",
   "mimetype": "text/x-python",
   "name": "python",
   "nbconvert_exporter": "python",
   "pygments_lexer": "ipython3",
   "version": "3.6.8"
  }
 },
 "nbformat": 4,
 "nbformat_minor": 2
}
