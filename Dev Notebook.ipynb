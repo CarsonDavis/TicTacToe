{
 "cells": [
  {
   "cell_type": "code",
   "execution_count": 2,
   "metadata": {},
   "outputs": [],
   "source": [
    "from random import choice\n",
    "\n",
    "\n",
    "class Game:\n",
    "    def __init__(self, player_piece=1):\n",
    "        self.current_board = [[0, 0, 0],\n",
    "                              [0, 0, 0],\n",
    "                              [0, 0, 0]]\n",
    "        self.board_history = list()\n",
    "        self.move_history = list()\n",
    "\n",
    "        self.valid_moves = set(range(9))\n",
    "        self.player_piece = player_piece\n",
    "        self.computer_piece = -1 if player_piece == 1 else 1\n",
    "        self.game_over = False\n",
    "\n",
    "    def move(self, position, piece=None):\n",
    "        # position is int 0-8\n",
    "        # piece is {'O':-1, 'X':1}\n",
    "        # will accept invalid moves, error handling needs to be somewhere else\n",
    "\n",
    "        # I am only training player 1 to win, and will therefor only record 1's moves\n",
    "        if piece == 1:\n",
    "            self.board_history.append(self.current_board)\n",
    "            self.move_history.append(position)\n",
    "\n",
    "        if not piece:\n",
    "            piece = self.player_piece\n",
    "\n",
    "        position = int(position)\n",
    "\n",
    "        self.valid_moves.remove(position)\n",
    "        self.current_board[position // 3][position % 3] = piece\n",
    "        self.game_over = self.is_victory()\n",
    "\n",
    "    def is_victory(self, board=None):\n",
    "\n",
    "        if not board:\n",
    "            board = self.current_board\n",
    "\n",
    "        # rows\n",
    "        for row in board:\n",
    "            if sum(row) == 3 or sum(row) == -3:\n",
    "                return True\n",
    "\n",
    "        # columns\n",
    "        for col in range(3):\n",
    "            total = 0\n",
    "            for row in range(3):\n",
    "                total += board[row][col]\n",
    "            if total == 3 or total == -3:\n",
    "                return True\n",
    "\n",
    "        # across\n",
    "        total = board[0][0] + board[1][1] + board[2][2]\n",
    "        if total == 3 or total == -3:\n",
    "            return True\n",
    "\n",
    "        total = board[0][2] + board[1][1] + board[2][0]\n",
    "        if total == 3 or total == -3:\n",
    "            return True\n",
    "\n",
    "        return False\n",
    "\n",
    "    def print_board(self, board=None):\n",
    "        if not board:\n",
    "            board = self.current_board\n",
    "\n",
    "        for row in range(3):\n",
    "            print(board[row])\n",
    "\n",
    "    def computer_move(self, piece=None):\n",
    "\n",
    "        if not piece:\n",
    "            piece = self.computer_piece\n",
    "\n",
    "        return choice(list(self.valid_moves)), piece\n",
    "\n",
    "\n",
    "def play_human_vs_computer():\n",
    "    game = Game()\n",
    "\n",
    "    turn_map = {-1: {'name': 'computer', 'move function': game.computer_move},\n",
    "                1: {'name': 'player', 'move function': input}\n",
    "                }\n",
    "\n",
    "    whose_move = 1\n",
    "\n",
    "    print('Your Move')\n",
    "    game.print_board()\n",
    "\n",
    "    while not game.game_over:\n",
    "        game.move(*turn_map[whose_move]['move function']())\n",
    "\n",
    "        print(turn_map[whose_move]['name'] + \"'s move\")\n",
    "        game.print_board()\n",
    "        print()\n",
    "        whose_move *= -1\n",
    "\n",
    "    print(turn_map[(whose_move * -1)]['name'], ' wins!')\n",
    "\n",
    "def play_computer_vs_computer():\n",
    "    game = Game()\n",
    "\n",
    "    turn_map = {-1: {'name': 'computer 1', 'move function': game.computer_move},\n",
    "                1: {'name': 'computer 2', 'move function': game.computer_move}\n",
    "                }\n",
    "\n",
    "    whose_move = 1\n",
    "\n",
    "    print('Your Move')\n",
    "    game.print_board()\n",
    "\n",
    "    while not game.game_over:\n",
    "        game.move(*turn_map[whose_move]['move function'](whose_move))\n",
    "\n",
    "        print(turn_map[whose_move]['name'] + \"'s move\")\n",
    "        game.print_board()\n",
    "        print()\n",
    "        whose_move *= -1\n",
    "\n",
    "    print(turn_map[(whose_move * -1)]['name'], ' wins!')\n",
    "\n",
    "    return game.board_history, game.move_history"
   ]
  },
  {
   "cell_type": "code",
   "execution_count": 3,
   "metadata": {},
   "outputs": [
    {
     "ename": "SyntaxError",
     "evalue": "invalid syntax (<ipython-input-3-142982a8f77b>, line 8)",
     "output_type": "error",
     "traceback": [
      "\u001b[1;36m  File \u001b[1;32m\"<ipython-input-3-142982a8f77b>\"\u001b[1;36m, line \u001b[1;32m8\u001b[0m\n\u001b[1;33m    game history will be a subset of x_test data\u001b[0m\n\u001b[1;37m               ^\u001b[0m\n\u001b[1;31mSyntaxError\u001b[0m\u001b[1;31m:\u001b[0m invalid syntax\n"
     ]
    }
   ],
   "source": [
    "# x_test is one game board\n",
    "# y_test is a one if win a zero if lose NOOOOOO this should be the move played that turn\n",
    "# assign win to every move that happened in a winning game\n",
    "\n",
    "# only train on wins\n",
    "\n",
    "\n",
    "game history will be a subset of x_test data"
   ]
  },
  {
   "cell_type": "code",
   "execution_count": null,
   "metadata": {},
   "outputs": [],
   "source": [
    "# print(play_computer_vs_computer())"
   ]
  },
  {
   "cell_type": "code",
   "execution_count": 4,
   "metadata": {},
   "outputs": [],
   "source": [
    "history = []"
   ]
  },
  {
   "cell_type": "code",
   "execution_count": 5,
   "metadata": {},
   "outputs": [],
   "source": [
    "board = [1]"
   ]
  },
  {
   "cell_type": "code",
   "execution_count": 6,
   "metadata": {},
   "outputs": [],
   "source": [
    "history.append(board)"
   ]
  },
  {
   "cell_type": "code",
   "execution_count": 7,
   "metadata": {},
   "outputs": [
    {
     "data": {
      "text/plain": [
       "[[1]]"
      ]
     },
     "execution_count": 7,
     "metadata": {},
     "output_type": "execute_result"
    }
   ],
   "source": [
    "history\n"
   ]
  },
  {
   "cell_type": "code",
   "execution_count": 8,
   "metadata": {},
   "outputs": [],
   "source": [
    "board =3"
   ]
  },
  {
   "cell_type": "code",
   "execution_count": 9,
   "metadata": {},
   "outputs": [
    {
     "data": {
      "text/plain": [
       "[[1]]"
      ]
     },
     "execution_count": 9,
     "metadata": {},
     "output_type": "execute_result"
    }
   ],
   "source": [
    "history"
   ]
  },
  {
   "cell_type": "code",
   "execution_count": 10,
   "metadata": {},
   "outputs": [],
   "source": [
    "board = 5"
   ]
  },
  {
   "cell_type": "code",
   "execution_count": 11,
   "metadata": {},
   "outputs": [],
   "source": [
    "history.append(board)"
   ]
  },
  {
   "cell_type": "code",
   "execution_count": 12,
   "metadata": {},
   "outputs": [
    {
     "data": {
      "text/plain": [
       "[[1], 5]"
      ]
     },
     "execution_count": 12,
     "metadata": {},
     "output_type": "execute_result"
    }
   ],
   "source": [
    "history\n"
   ]
  },
  {
   "cell_type": "code",
   "execution_count": 13,
   "metadata": {},
   "outputs": [],
   "source": [
    "a = ['yes']\n",
    "b = a"
   ]
  },
  {
   "cell_type": "code",
   "execution_count": 14,
   "metadata": {},
   "outputs": [
    {
     "data": {
      "text/plain": [
       "['yes']"
      ]
     },
     "execution_count": 14,
     "metadata": {},
     "output_type": "execute_result"
    }
   ],
   "source": [
    "b"
   ]
  },
  {
   "cell_type": "code",
   "execution_count": 15,
   "metadata": {},
   "outputs": [
    {
     "data": {
      "text/plain": [
       "['yes']"
      ]
     },
     "execution_count": 15,
     "metadata": {},
     "output_type": "execute_result"
    }
   ],
   "source": [
    "a"
   ]
  },
  {
   "cell_type": "code",
   "execution_count": 16,
   "metadata": {},
   "outputs": [],
   "source": [
    "a = ['no']"
   ]
  },
  {
   "cell_type": "code",
   "execution_count": 17,
   "metadata": {},
   "outputs": [
    {
     "data": {
      "text/plain": [
       "['yes']"
      ]
     },
     "execution_count": 17,
     "metadata": {},
     "output_type": "execute_result"
    }
   ],
   "source": [
    "b"
   ]
  },
  {
   "cell_type": "code",
   "execution_count": 18,
   "metadata": {},
   "outputs": [
    {
     "data": {
      "text/plain": [
       "['no']"
      ]
     },
     "execution_count": 18,
     "metadata": {},
     "output_type": "execute_result"
    }
   ],
   "source": [
    "a\n"
   ]
  },
  {
   "cell_type": "code",
   "execution_count": 19,
   "metadata": {},
   "outputs": [],
   "source": [
    "b = 'green'"
   ]
  },
  {
   "cell_type": "code",
   "execution_count": 20,
   "metadata": {},
   "outputs": [
    {
     "data": {
      "text/plain": [
       "['no']"
      ]
     },
     "execution_count": 20,
     "metadata": {},
     "output_type": "execute_result"
    }
   ],
   "source": [
    "a"
   ]
  },
  {
   "cell_type": "code",
   "execution_count": null,
   "metadata": {},
   "outputs": [],
   "source": []
  }
 ],
 "metadata": {
  "kernelspec": {
   "display_name": "Python 3",
   "language": "python",
   "name": "python3"
  },
  "language_info": {
   "codemirror_mode": {
    "name": "ipython",
    "version": 3
   },
   "file_extension": ".py",
   "mimetype": "text/x-python",
   "name": "python",
   "nbconvert_exporter": "python",
   "pygments_lexer": "ipython3",
   "version": "3.6.8"
  }
 },
 "nbformat": 4,
 "nbformat_minor": 2
}
