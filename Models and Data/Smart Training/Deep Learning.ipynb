{
 "cells": [
  {
   "cell_type": "code",
   "execution_count": 16,
   "metadata": {},
   "outputs": [],
   "source": [
    "import numpy as np\n",
    "import json\n",
    "from keras.utils.np_utils import to_categorical\n",
    "import time\n",
    "from sklearn.model_selection import train_test_split"
   ]
  },
  {
   "cell_type": "code",
   "execution_count": 17,
   "metadata": {},
   "outputs": [],
   "source": [
    "with open('Random_Random.json') as json_file:\n",
    "    RR_training = json.load(json_file)\n",
    "    \n",
    "with open('Random_Smart.json') as json_file:\n",
    "    RS_training = json.load(json_file)\n",
    "    \n",
    "with open('Smart_Random.json') as json_file:\n",
    "    SR_training = json.load(json_file)"
   ]
  },
  {
   "cell_type": "code",
   "execution_count": 18,
   "metadata": {
    "scrolled": true
   },
   "outputs": [
    {
     "name": "stdout",
     "output_type": "stream",
     "text": [
      "70866\n",
      "70866\n",
      "131987\n",
      "131987\n",
      "134993\n",
      "134993\n"
     ]
    }
   ],
   "source": [
    "for item in [RR_training, RS_training, SR_training]:\n",
    "    print(len(item['moves']))\n",
    "    print(len(item['boards']))"
   ]
  },
  {
   "cell_type": "code",
   "execution_count": 19,
   "metadata": {},
   "outputs": [],
   "source": [
    "training = {'boards': [], 'moves': []}\n",
    "for dictionary in [RR_training, RS_training, SR_training]:\n",
    "    for key, value in dictionary.items():\n",
    "        training[key] += value"
   ]
  },
  {
   "cell_type": "code",
   "execution_count": 20,
   "metadata": {},
   "outputs": [
    {
     "data": {
      "text/plain": [
       "337846"
      ]
     },
     "execution_count": 20,
     "metadata": {},
     "output_type": "execute_result"
    }
   ],
   "source": [
    "len(training['boards'])"
   ]
  },
  {
   "cell_type": "code",
   "execution_count": 21,
   "metadata": {},
   "outputs": [
    {
     "data": {
      "text/plain": [
       "337846"
      ]
     },
     "execution_count": 21,
     "metadata": {},
     "output_type": "execute_result"
    }
   ],
   "source": [
    "134993+131987+70866"
   ]
  },
  {
   "cell_type": "code",
   "execution_count": 24,
   "metadata": {},
   "outputs": [],
   "source": [
    "X = np.array(training['boards'])\n",
    "y = to_categorical(training['moves'])\n",
    "\n",
    "X_train, X_test, y_train, y_test = train_test_split(X, y, test_size=0.2, random_state=42)\n",
    "X_test, X_val, y_test, y_val = train_test_split(X_test, y_test, test_size=0.2, random_state=42)"
   ]
  },
  {
   "cell_type": "code",
   "execution_count": 25,
   "metadata": {},
   "outputs": [
    {
     "name": "stdout",
     "output_type": "stream",
     "text": [
      "270276\n",
      "54056\n",
      "13514\n",
      "270276\n",
      "54056\n",
      "13514\n"
     ]
    }
   ],
   "source": [
    "for i in [X_train, X_test, X_val, y_train, y_test, y_val]:\n",
    "    print(len(i))"
   ]
  },
  {
   "cell_type": "code",
   "execution_count": 57,
   "metadata": {},
   "outputs": [
    {
     "name": "stdout",
     "output_type": "stream",
     "text": [
      "Train on 270276 samples, validate on 54056 samples\n",
      "Epoch 1/30\n",
      "270276/270276 [==============================] - 3s 11us/step - loss: 1.8903 - acc: 0.3468 - val_loss: 1.6265 - val_acc: 0.4374\n",
      "Epoch 2/30\n",
      "270276/270276 [==============================] - 2s 9us/step - loss: 1.4852 - acc: 0.5167 - val_loss: 1.3902 - val_acc: 0.5493\n",
      "Epoch 3/30\n",
      "270276/270276 [==============================] - 2s 9us/step - loss: 1.3328 - acc: 0.5643 - val_loss: 1.2758 - val_acc: 0.5816\n",
      "Epoch 4/30\n",
      "270276/270276 [==============================] - 2s 9us/step - loss: 1.2541 - acc: 0.5899 - val_loss: 1.2143 - val_acc: 0.6122\n",
      "Epoch 5/30\n",
      "270276/270276 [==============================] - 2s 9us/step - loss: 1.2075 - acc: 0.6191 - val_loss: 1.1969 - val_acc: 0.6279\n",
      "Epoch 6/30\n",
      "270276/270276 [==============================] - 2s 9us/step - loss: 1.1747 - acc: 0.6361 - val_loss: 1.1597 - val_acc: 0.6535\n",
      "Epoch 7/30\n",
      "270276/270276 [==============================] - 2s 9us/step - loss: 1.1508 - acc: 0.6468 - val_loss: 1.1351 - val_acc: 0.6521\n",
      "Epoch 8/30\n",
      "270276/270276 [==============================] - 2s 9us/step - loss: 1.1326 - acc: 0.6551 - val_loss: 1.1110 - val_acc: 0.6582\n",
      "Epoch 9/30\n",
      "270276/270276 [==============================] - 2s 9us/step - loss: 1.1173 - acc: 0.6618 - val_loss: 1.0982 - val_acc: 0.6699\n",
      "Epoch 10/30\n",
      "270276/270276 [==============================] - 2s 9us/step - loss: 1.1045 - acc: 0.6662 - val_loss: 1.0881 - val_acc: 0.6748\n",
      "Epoch 11/30\n",
      "270276/270276 [==============================] - 2s 9us/step - loss: 1.0941 - acc: 0.6689 - val_loss: 1.0966 - val_acc: 0.6756\n",
      "Epoch 12/30\n",
      "270276/270276 [==============================] - 2s 9us/step - loss: 1.0837 - acc: 0.6743 - val_loss: 1.0663 - val_acc: 0.6800\n",
      "Epoch 13/30\n",
      "270276/270276 [==============================] - 2s 9us/step - loss: 1.0733 - acc: 0.6779 - val_loss: 1.0764 - val_acc: 0.6749\n",
      "Epoch 14/30\n",
      "270276/270276 [==============================] - 2s 9us/step - loss: 1.0651 - acc: 0.6800 - val_loss: 1.0593 - val_acc: 0.6825\n",
      "Epoch 15/30\n",
      "270276/270276 [==============================] - 2s 9us/step - loss: 1.0563 - acc: 0.6828 - val_loss: 1.0498 - val_acc: 0.6843\n",
      "Epoch 16/30\n",
      "270276/270276 [==============================] - 2s 9us/step - loss: 1.0516 - acc: 0.6846 - val_loss: 1.0408 - val_acc: 0.6860\n",
      "Epoch 17/30\n",
      "270276/270276 [==============================] - 2s 9us/step - loss: 1.0455 - acc: 0.6952 - val_loss: 1.0352 - val_acc: 0.6980\n",
      "Epoch 18/30\n",
      "270276/270276 [==============================] - 2s 9us/step - loss: 1.0416 - acc: 0.6966 - val_loss: 1.0514 - val_acc: 0.6965\n",
      "Epoch 19/30\n",
      "270276/270276 [==============================] - 2s 9us/step - loss: 1.0364 - acc: 0.6984 - val_loss: 1.0275 - val_acc: 0.6962\n",
      "Epoch 20/30\n",
      "270276/270276 [==============================] - 2s 9us/step - loss: 1.0314 - acc: 0.6986 - val_loss: 1.0202 - val_acc: 0.7017\n",
      "Epoch 21/30\n",
      "270276/270276 [==============================] - 2s 9us/step - loss: 1.0278 - acc: 0.6990 - val_loss: 1.0184 - val_acc: 0.7029\n",
      "Epoch 22/30\n",
      "270276/270276 [==============================] - 2s 9us/step - loss: 1.0243 - acc: 0.7000 - val_loss: 1.0177 - val_acc: 0.7023\n",
      "Epoch 23/30\n",
      "270276/270276 [==============================] - 2s 9us/step - loss: 1.0197 - acc: 0.7011 - val_loss: 1.0089 - val_acc: 0.7050\n",
      "Epoch 24/30\n",
      "270276/270276 [==============================] - 2s 9us/step - loss: 1.0154 - acc: 0.7022 - val_loss: 1.0142 - val_acc: 0.7051\n",
      "Epoch 25/30\n",
      "270276/270276 [==============================] - 2s 9us/step - loss: 1.0122 - acc: 0.7036 - val_loss: 0.9958 - val_acc: 0.7095\n",
      "Epoch 26/30\n",
      "270276/270276 [==============================] - 2s 9us/step - loss: 1.0080 - acc: 0.7043 - val_loss: 0.9974 - val_acc: 0.7091\n",
      "Epoch 27/30\n",
      "270276/270276 [==============================] - 2s 9us/step - loss: 1.0042 - acc: 0.7047 - val_loss: 0.9974 - val_acc: 0.7073\n",
      "Epoch 28/30\n",
      "270276/270276 [==============================] - 2s 9us/step - loss: 1.0002 - acc: 0.7063 - val_loss: 1.0452 - val_acc: 0.6941\n",
      "Epoch 29/30\n",
      "270276/270276 [==============================] - 2s 9us/step - loss: 0.9971 - acc: 0.7078 - val_loss: 0.9844 - val_acc: 0.7120\n",
      "Epoch 30/30\n",
      "270276/270276 [==============================] - 2s 9us/step - loss: 0.9936 - acc: 0.7099 - val_loss: 0.9956 - val_acc: 0.7099\n",
      "72.78079390525818\n",
      "13514/13514 [==============================] - 0s 30us/step\n",
      "[0.9829088842902325, 0.7145922746869328]\n"
     ]
    }
   ],
   "source": [
    "# this model isn't so great\n",
    "# I used the one further down\n",
    "from keras import models\n",
    "from keras import layers\n",
    "from keras import optimizers\n",
    "from keras import losses\n",
    "from keras import metrics\n",
    "\n",
    "model = models.Sequential()\n",
    "\n",
    "model.add(layers.Dense(9, activation = 'relu', input_shape = (9,)))\n",
    "model.add(layers.Dense(9, activation = 'relu'))\n",
    "model.add(layers.Dense(9, activation = 'relu'))\n",
    "model.add(layers.Dense(9, activation = 'relu'))\n",
    "model.add(layers.Dense(9, activation = 'relu'))\n",
    "model.add(layers.Dense(9, activation = 'relu'))\n",
    "model.add(layers.Dense(9, activation = 'relu'))\n",
    "model.add(layers.Dense(9, activation = 'relu'))\n",
    "model.add(layers.Dense(9, activation = 'relu'))\n",
    "model.add(layers.Dense(9, activation = 'softmax'))\n",
    "\n",
    "\n",
    "\n",
    "model.compile(optimizer = 'rmsprop',\n",
    "             loss = 'categorical_crossentropy',\n",
    "             metrics = ['accuracy'])\n",
    "\n",
    "\n",
    "# train the network\n",
    "now = time.time()\n",
    "\n",
    "history = model.fit(X_train,\n",
    "                   y_train,\n",
    "                   epochs=30,\n",
    "                   batch_size = 512,\n",
    "                   validation_data = (X_test, y_test))\n",
    "\n",
    "print(time.time()-now)\n",
    "\n",
    "print(model.evaluate(X_val, y_val))"
   ]
  },
  {
   "cell_type": "code",
   "execution_count": 55,
   "metadata": {},
   "outputs": [
    {
     "data": {
      "text/plain": [
       "array([[0.02178787, 0.02496707, 0.0257297 , 0.02728997, 0.78476787,\n",
       "        0.03005825, 0.0259759 , 0.02616759, 0.03325576]], dtype=float32)"
      ]
     },
     "execution_count": 55,
     "metadata": {},
     "output_type": "execute_result"
    }
   ],
   "source": [
    "model.predict(np.array([[0,0,0,0,0,0,0,0,0]]))"
   ]
  },
  {
   "cell_type": "code",
   "execution_count": 56,
   "metadata": {},
   "outputs": [
    {
     "data": {
      "text/plain": [
       "array([[0.1683737 , 0.05102368, 0.08542217, 0.04528546, 0.22401215,\n",
       "        0.06745588, 0.0763906 , 0.13408835, 0.14794804]], dtype=float32)"
      ]
     },
     "execution_count": 56,
     "metadata": {},
     "output_type": "execute_result"
    }
   ],
   "source": [
    "model.predict(np.array([[1,-1,0\n",
    "                         ,1,0,0\n",
    "                         ,0,-1,0]]))"
   ]
  },
  {
   "cell_type": "code",
   "execution_count": 45,
   "metadata": {},
   "outputs": [
    {
     "data": {
      "text/plain": [
       "array([[0.00043794, 0.00052062, 0.21343212, 0.00179795, 0.2019275 ,\n",
       "        0.16881675, 0.31666756, 0.00581618, 0.09058337]], dtype=float32)"
      ]
     },
     "execution_count": 45,
     "metadata": {},
     "output_type": "execute_result"
    }
   ],
   "source": [
    "test_model.predict(np.array([[1,-1,0\n",
    "                         ,1,0,0\n",
    "                         ,0,-1,0]]))"
   ]
  },
  {
   "cell_type": "code",
   "execution_count": 47,
   "metadata": {},
   "outputs": [
    {
     "data": {
      "text/plain": [
       "array([[0.00325159, 0.00093395, 0.19345361, 0.16106528, 0.00418115,\n",
       "        0.12907228, 0.23651929, 0.00877786, 0.26274502]], dtype=float32)"
      ]
     },
     "execution_count": 47,
     "metadata": {},
     "output_type": "execute_result"
    }
   ],
   "source": [
    "model.predict(np.array([[1,-1,0\n",
    "                         ,0,1,0\n",
    "                         ,0,-1,0]]))"
   ]
  },
  {
   "cell_type": "code",
   "execution_count": 48,
   "metadata": {},
   "outputs": [
    {
     "data": {
      "text/plain": [
       "array([[1.1218474e-05, 3.7624336e-06, 3.2174754e-01, 3.4098116e-01,\n",
       "        5.0292820e-05, 2.4599876e-01, 3.2355905e-02, 1.3134971e-04,\n",
       "        5.8719952e-02]], dtype=float32)"
      ]
     },
     "execution_count": 48,
     "metadata": {},
     "output_type": "execute_result"
    }
   ],
   "source": [
    "test_model.predict(np.array([[1,-1,0\n",
    "                         ,0,1,0\n",
    "                         ,0,-1,0]]))"
   ]
  },
  {
   "cell_type": "code",
   "execution_count": 50,
   "metadata": {},
   "outputs": [
    {
     "data": {
      "text/plain": [
       "array([[2.5778514e-04, 2.6437433e-02, 1.2027474e-01, 5.6764647e-02,\n",
       "        5.4575043e-04, 9.6586965e-02, 2.5654316e-01, 1.6845371e-01,\n",
       "        2.7413586e-01]], dtype=float32)"
      ]
     },
     "execution_count": 50,
     "metadata": {},
     "output_type": "execute_result"
    }
   ],
   "source": [
    "model.predict(np.array([[1,0,0\n",
    "                         ,0,1,0\n",
    "                         ,0,0,0]]))"
   ]
  },
  {
   "cell_type": "code",
   "execution_count": 51,
   "metadata": {},
   "outputs": [
    {
     "data": {
      "text/plain": [
       "array([[2.26156026e-05, 3.40315397e-03, 2.33651400e-02, 2.84878999e-01,\n",
       "        9.09274968e-05, 2.25693494e-01, 5.71935624e-03, 1.10313356e-01,\n",
       "        3.46512944e-01]], dtype=float32)"
      ]
     },
     "execution_count": 51,
     "metadata": {},
     "output_type": "execute_result"
    }
   ],
   "source": [
    "test_model.predict(np.array([[1,0,0\n",
    "                         ,0,1,0\n",
    "                         ,0,0,0]]))"
   ]
  },
  {
   "cell_type": "code",
   "execution_count": null,
   "metadata": {},
   "outputs": [],
   "source": [
    "### the above move prediction isn't bad, but it blocks instead of going for the win"
   ]
  },
  {
   "cell_type": "code",
   "execution_count": 33,
   "metadata": {},
   "outputs": [],
   "source": []
  },
  {
   "cell_type": "code",
   "execution_count": null,
   "metadata": {},
   "outputs": [],
   "source": []
  },
  {
   "cell_type": "code",
   "execution_count": 35,
   "metadata": {},
   "outputs": [],
   "source": [
    "from keras.models import load_model\n",
    "test_model = load_model('smart_model.h5')"
   ]
  },
  {
   "cell_type": "code",
   "execution_count": 36,
   "metadata": {},
   "outputs": [
    {
     "data": {
      "text/plain": [
       "array([[0.02982613, 0.02642992, 0.04474984, 0.04018626, 0.70327   ,\n",
       "        0.04147457, 0.03849569, 0.03270375, 0.04286384]], dtype=float32)"
      ]
     },
     "execution_count": 36,
     "metadata": {},
     "output_type": "execute_result"
    }
   ],
   "source": [
    "test_model.predict(np.array([[0,0,0,0,0,0,0,0,0]]))"
   ]
  },
  {
   "cell_type": "code",
   "execution_count": 37,
   "metadata": {},
   "outputs": [
    {
     "data": {
      "text/plain": [
       "array([[0.00406162, 0.01751591, 0.04555007, 0.00840351, 0.17237176,\n",
       "        0.21559587, 0.06073135, 0.2012618 , 0.27450812]], dtype=float32)"
      ]
     },
     "execution_count": 37,
     "metadata": {},
     "output_type": "execute_result"
    }
   ],
   "source": [
    "model.predict(np.array([[1,0,0\n",
    "                         ,1,0,0\n",
    "                         ,0,0,0]]))"
   ]
  },
  {
   "cell_type": "code",
   "execution_count": null,
   "metadata": {},
   "outputs": [],
   "source": [
    "model.predict(np.array([[1,0,0\n",
    "                         ,0,1,0\n",
    "                         ,0,0,0]]))"
   ]
  },
  {
   "cell_type": "code",
   "execution_count": null,
   "metadata": {},
   "outputs": [],
   "source": []
  },
  {
   "cell_type": "code",
   "execution_count": null,
   "metadata": {},
   "outputs": [],
   "source": []
  },
  {
   "cell_type": "code",
   "execution_count": null,
   "metadata": {},
   "outputs": [],
   "source": []
  },
  {
   "cell_type": "code",
   "execution_count": null,
   "metadata": {},
   "outputs": [],
   "source": [
    "current_board = [[0,0,0],[0,0,0],[0,0,0]]\n",
    "\n",
    "def board_to_prediction_list(board):\n",
    "    vector_board = []\n",
    "    for row in board:\n",
    "        vector_board += row\n",
    "    np_board = np.array([vector_board])\n",
    "\n",
    "    return list(model.predict(np_board)[0])\n",
    "\n",
    "def make_prediction(predicted_moves, available_moves):\n",
    "    \n",
    "    while True:\n",
    "        move = predicted_moves.index(max(predicted_moves))\n",
    "        predicted_moves[move] = 0\n",
    "\n",
    "        if move in available_moves:\n",
    "            return move\n",
    "\n",
    "pred_list = board_to_prediction_list(current_board)\n",
    "print(pred_list)\n",
    "my_move = make_prediction(pred_list,set([3,5,6,7,8]))\n",
    "print(my_move)"
   ]
  },
  {
   "cell_type": "code",
   "execution_count": null,
   "metadata": {},
   "outputs": [],
   "source": [
    "predicted_moves.index(max(predicted_moves))"
   ]
  },
  {
   "cell_type": "code",
   "execution_count": 58,
   "metadata": {},
   "outputs": [
    {
     "name": "stdout",
     "output_type": "stream",
     "text": [
      "Train on 270276 samples, validate on 54056 samples\n",
      "Epoch 1/10\n",
      "270276/270276 [==============================] - 4s 14us/step - loss: 0.7634 - acc: 0.7829 - val_loss: 0.6116 - val_acc: 0.8221\n",
      "Epoch 2/10\n",
      "270276/270276 [==============================] - 3s 12us/step - loss: 0.6117 - acc: 0.8220 - val_loss: 0.6114 - val_acc: 0.8216\n",
      "Epoch 3/10\n",
      "270276/270276 [==============================] - 3s 12us/step - loss: 0.5977 - acc: 0.8235 - val_loss: 0.6125 - val_acc: 0.8229\n",
      "Epoch 4/10\n",
      "270276/270276 [==============================] - 3s 12us/step - loss: 0.5911 - acc: 0.8245 - val_loss: 0.6060 - val_acc: 0.8199\n",
      "Epoch 5/10\n",
      "270276/270276 [==============================] - 4s 14us/step - loss: 0.5870 - acc: 0.8252 - val_loss: 0.5926 - val_acc: 0.8232\n",
      "Epoch 6/10\n",
      "270276/270276 [==============================] - 3s 12us/step - loss: 0.5846 - acc: 0.8258 - val_loss: 0.5970 - val_acc: 0.8223\n",
      "Epoch 7/10\n",
      "270276/270276 [==============================] - 3s 12us/step - loss: 0.5818 - acc: 0.8260 - val_loss: 0.5997 - val_acc: 0.8233\n",
      "Epoch 8/10\n",
      "270276/270276 [==============================] - 3s 12us/step - loss: 0.5800 - acc: 0.8264 - val_loss: 0.5933 - val_acc: 0.8217\n",
      "Epoch 9/10\n",
      "270276/270276 [==============================] - 4s 13us/step - loss: 0.5789 - acc: 0.8266 - val_loss: 0.5876 - val_acc: 0.8231\n",
      "Epoch 10/10\n",
      "270276/270276 [==============================] - 4s 13us/step - loss: 0.5776 - acc: 0.8268 - val_loss: 0.5876 - val_acc: 0.8220\n",
      "34.127105474472046\n",
      "13514/13514 [==============================] - 0s 33us/step\n",
      "[0.5842191214980997, 0.8217404173273333]\n"
     ]
    }
   ],
   "source": [
    "# this is the model I used\n",
    "from keras import models\n",
    "from keras import layers\n",
    "from keras import optimizers\n",
    "from keras import losses\n",
    "from keras import metrics\n",
    "\n",
    "model = models.Sequential()\n",
    "\n",
    "model.add(layers.Dense(729, activation = 'relu', input_shape = (9,)))\n",
    "model.add(layers.Dense(729, activation = 'relu'))\n",
    "model.add(layers.Dense(729, activation = 'relu'))\n",
    "model.add(layers.Dense(81, activation = 'relu'))\n",
    "model.add(layers.Dense(81, activation = 'relu'))\n",
    "model.add(layers.Dense(81, activation = 'relu'))\n",
    "model.add(layers.Dense(9, activation = 'softmax'))\n",
    "\n",
    "\n",
    "\n",
    "model.compile(optimizer = 'rmsprop',\n",
    "             loss = 'categorical_crossentropy',\n",
    "             metrics = ['accuracy'])\n",
    "\n",
    "\n",
    "# train the network\n",
    "now = time.time()\n",
    "\n",
    "history = model.fit(X_train,\n",
    "                   y_train,\n",
    "                   epochs=10,\n",
    "                   batch_size = 512,\n",
    "                   validation_data = (X_test, y_test))\n",
    "\n",
    "print(time.time()-now)\n",
    "\n",
    "print(model.evaluate(X_val, y_val))"
   ]
  },
  {
   "cell_type": "code",
   "execution_count": 59,
   "metadata": {},
   "outputs": [],
   "source": [
    "model.save('smart_model.h5')"
   ]
  },
  {
   "cell_type": "code",
   "execution_count": null,
   "metadata": {},
   "outputs": [],
   "source": []
  }
 ],
 "metadata": {
  "kernelspec": {
   "display_name": "Python 3",
   "language": "python",
   "name": "python3"
  },
  "language_info": {
   "codemirror_mode": {
    "name": "ipython",
    "version": 3
   },
   "file_extension": ".py",
   "mimetype": "text/x-python",
   "name": "python",
   "nbconvert_exporter": "python",
   "pygments_lexer": "ipython3",
   "version": "3.6.8"
  }
 },
 "nbformat": 4,
 "nbformat_minor": 2
}
