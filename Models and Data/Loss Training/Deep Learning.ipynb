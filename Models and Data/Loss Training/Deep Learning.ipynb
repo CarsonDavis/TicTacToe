{
 "cells": [
  {
   "cell_type": "code",
   "execution_count": 1,
   "metadata": {},
   "outputs": [
    {
     "name": "stderr",
     "output_type": "stream",
     "text": [
      "Using TensorFlow backend.\n"
     ]
    }
   ],
   "source": [
    "import numpy as np\n",
    "import json\n",
    "from keras.utils.np_utils import to_categorical\n",
    "import time\n",
    "from sklearn.model_selection import train_test_split"
   ]
  },
  {
   "cell_type": "code",
   "execution_count": 2,
   "metadata": {},
   "outputs": [],
   "source": [
    "with open('Random_Smart_Losses.json') as json_file:\n",
    "    training = json.load(json_file)"
   ]
  },
  {
   "cell_type": "code",
   "execution_count": 3,
   "metadata": {},
   "outputs": [
    {
     "name": "stdout",
     "output_type": "stream",
     "text": [
      "54620\n",
      "54620\n"
     ]
    }
   ],
   "source": [
    "for item in [training]:\n",
    "    print(len(item['moves']))\n",
    "    print(len(item['boards']))"
   ]
  },
  {
   "cell_type": "code",
   "execution_count": 4,
   "metadata": {},
   "outputs": [],
   "source": [
    "X = np.array(training['boards'])\n",
    "y = to_categorical(training['moves'])\n",
    "\n",
    "X_train, X_test, y_train, y_test = train_test_split(X, y, test_size=0.1, random_state=42)\n",
    "X_test, X_val, y_test, y_val = train_test_split(X_test, y_test, test_size=0.2, random_state=42)"
   ]
  },
  {
   "cell_type": "code",
   "execution_count": 5,
   "metadata": {},
   "outputs": [
    {
     "name": "stdout",
     "output_type": "stream",
     "text": [
      "49158\n",
      "4369\n",
      "1093\n",
      "49158\n",
      "4369\n",
      "1093\n"
     ]
    }
   ],
   "source": [
    "for i in [X_train, X_test, X_val, y_train, y_test, y_val]:\n",
    "    print(len(i))"
   ]
  },
  {
   "cell_type": "code",
   "execution_count": 6,
   "metadata": {},
   "outputs": [],
   "source": [
    "from keras.models import load_model\n",
    "parial_model = load_model('smart_model_partial.h5')"
   ]
  },
  {
   "cell_type": "code",
   "execution_count": 7,
   "metadata": {},
   "outputs": [
    {
     "name": "stdout",
     "output_type": "stream",
     "text": [
      "Train on 49158 samples, validate on 4369 samples\n",
      "Epoch 1/10\n",
      "49158/49158 [==============================] - 5s 97us/step - loss: 1.2494 - acc: 0.4822 - val_loss: 1.2840 - val_acc: 0.4722\n",
      "Epoch 2/10\n",
      "49158/49158 [==============================] - 5s 96us/step - loss: 1.2366 - acc: 0.4824 - val_loss: 1.2638 - val_acc: 0.4726\n",
      "Epoch 3/10\n",
      "49158/49158 [==============================] - ETA: 0s - loss: 1.2354 - acc: 0.481 - 5s 95us/step - loss: 1.2348 - acc: 0.4819 - val_loss: 1.2560 - val_acc: 0.4699\n",
      "Epoch 4/10\n",
      "49158/49158 [==============================] - 5s 101us/step - loss: 1.2343 - acc: 0.4826 - val_loss: 1.2583 - val_acc: 0.4797\n",
      "Epoch 5/10\n",
      "49158/49158 [==============================] - 5s 99us/step - loss: 1.2325 - acc: 0.4831 - val_loss: 1.2523 - val_acc: 0.4688\n",
      "Epoch 6/10\n",
      "49158/49158 [==============================] - 5s 100us/step - loss: 1.2317 - acc: 0.4839 - val_loss: 1.2511 - val_acc: 0.4715\n",
      "Epoch 7/10\n",
      "49158/49158 [==============================] - 5s 101us/step - loss: 1.2313 - acc: 0.4820 - val_loss: 1.2535 - val_acc: 0.4589\n",
      "Epoch 8/10\n",
      "49158/49158 [==============================] - 5s 98us/step - loss: 1.2314 - acc: 0.4829 - val_loss: 1.2527 - val_acc: 0.4626\n",
      "Epoch 9/10\n",
      "49158/49158 [==============================] - 5s 95us/step - loss: 1.2310 - acc: 0.4817 - val_loss: 1.2430 - val_acc: 0.4802\n",
      "Epoch 10/10\n",
      "49158/49158 [==============================] - 5s 97us/step - loss: 1.2310 - acc: 0.4849 - val_loss: 1.2433 - val_acc: 0.4834\n"
     ]
    }
   ],
   "source": [
    "from keras import models\n",
    "from keras import layers\n",
    "from keras import optimizers\n",
    "from keras import losses\n",
    "from keras import metrics\n",
    "\n",
    "\n",
    "history = parial_model.fit(X_train,\n",
    "                   y_train,\n",
    "                   epochs=10,\n",
    "                   batch_size = 512,\n",
    "                   validation_data = (X_test, y_test))"
   ]
  },
  {
   "cell_type": "code",
   "execution_count": 8,
   "metadata": {},
   "outputs": [],
   "source": [
    "parial_model.save('pre-trainied_loss_model.h5')"
   ]
  },
  {
   "cell_type": "code",
   "execution_count": null,
   "metadata": {},
   "outputs": [],
   "source": []
  },
  {
   "cell_type": "code",
   "execution_count": 9,
   "metadata": {},
   "outputs": [
    {
     "name": "stdout",
     "output_type": "stream",
     "text": [
      "Train on 49158 samples, validate on 4369 samples\n",
      "Epoch 1/10\n",
      "49158/49158 [==============================] - 5s 100us/step - loss: 1.4741 - acc: 0.4254 - val_loss: 1.6226 - val_acc: 0.4461\n",
      "Epoch 2/10\n",
      "49158/49158 [==============================] - 5s 95us/step - loss: 1.2731 - acc: 0.4766 - val_loss: 1.3379 - val_acc: 0.4660\n",
      "Epoch 3/10\n",
      "49158/49158 [==============================] - 5s 95us/step - loss: 1.2536 - acc: 0.4776 - val_loss: 1.3127 - val_acc: 0.4656\n",
      "Epoch 4/10\n",
      "49158/49158 [==============================] - 5s 97us/step - loss: 1.2446 - acc: 0.4811 - val_loss: 1.4824 - val_acc: 0.4395\n",
      "Epoch 5/10\n",
      "49158/49158 [==============================] - 5s 94us/step - loss: 1.2425 - acc: 0.4824 - val_loss: 1.2572 - val_acc: 0.4832\n",
      "Epoch 6/10\n",
      "49158/49158 [==============================] - 5s 95us/step - loss: 1.2384 - acc: 0.4820 - val_loss: 1.2527 - val_acc: 0.4722\n",
      "Epoch 7/10\n",
      "49158/49158 [==============================] - 5s 97us/step - loss: 1.2369 - acc: 0.4818 - val_loss: 1.2636 - val_acc: 0.4720\n",
      "Epoch 8/10\n",
      "49158/49158 [==============================] - 5s 95us/step - loss: 1.2356 - acc: 0.4822 - val_loss: 1.2922 - val_acc: 0.4690\n",
      "Epoch 9/10\n",
      "49158/49158 [==============================] - 5s 95us/step - loss: 1.2350 - acc: 0.4815 - val_loss: 1.2548 - val_acc: 0.4813\n",
      "Epoch 10/10\n",
      "49158/49158 [==============================] - 5s 96us/step - loss: 1.2338 - acc: 0.4837 - val_loss: 1.2634 - val_acc: 0.4752\n",
      "47.50954866409302\n",
      "1093/1093 [==============================] - 0s 92us/step\n",
      "[1.2419478230157905, 0.48307410798701034]\n"
     ]
    }
   ],
   "source": [
    "from keras import models\n",
    "from keras import layers\n",
    "from keras import optimizers\n",
    "from keras import losses\n",
    "from keras import metrics\n",
    "\n",
    "new_model = models.Sequential()\n",
    "\n",
    "new_model.add(layers.Dense(729, activation = 'relu', input_shape = (9,)))\n",
    "new_model.add(layers.Dense(729, activation = 'relu'))\n",
    "new_model.add(layers.Dense(729, activation = 'relu'))\n",
    "new_model.add(layers.Dense(81, activation = 'relu'))\n",
    "new_model.add(layers.Dense(81, activation = 'relu'))\n",
    "new_model.add(layers.Dense(81, activation = 'relu'))\n",
    "new_model.add(layers.Dense(9, activation = 'softmax'))\n",
    "\n",
    "\n",
    "\n",
    "new_model.compile(optimizer = 'rmsprop',\n",
    "             loss = 'categorical_crossentropy',\n",
    "             metrics = ['accuracy'])\n",
    "\n",
    "\n",
    "# train the network\n",
    "now = time.time()\n",
    "\n",
    "history = new_model.fit(X_train,\n",
    "                   y_train,\n",
    "                   epochs=10,\n",
    "                   batch_size = 512,\n",
    "                   validation_data = (X_test, y_test))\n",
    "\n",
    "print(time.time()-now)\n",
    "\n",
    "print(new_model.evaluate(X_val, y_val))"
   ]
  },
  {
   "cell_type": "code",
   "execution_count": 10,
   "metadata": {},
   "outputs": [
    {
     "ename": "NameError",
     "evalue": "name 'new_model_model' is not defined",
     "output_type": "error",
     "traceback": [
      "\u001b[1;31m---------------------------------------------------------------------------\u001b[0m",
      "\u001b[1;31mNameError\u001b[0m                                 Traceback (most recent call last)",
      "\u001b[1;32m<ipython-input-10-bb69af453361>\u001b[0m in \u001b[0;36m<module>\u001b[1;34m\u001b[0m\n\u001b[1;32m----> 1\u001b[1;33m \u001b[0mnew_model_model\u001b[0m\u001b[1;33m.\u001b[0m\u001b[0msave\u001b[0m\u001b[1;33m(\u001b[0m\u001b[1;34m'new_loss_model.h5'\u001b[0m\u001b[1;33m)\u001b[0m\u001b[1;33m\u001b[0m\u001b[1;33m\u001b[0m\u001b[0m\n\u001b[0m",
      "\u001b[1;31mNameError\u001b[0m: name 'new_model_model' is not defined"
     ]
    }
   ],
   "source": [
    "new_model_model.save('new_loss_model.h5')"
   ]
  },
  {
   "cell_type": "code",
   "execution_count": null,
   "metadata": {},
   "outputs": [],
   "source": [
    "def make_prediction(model, board):\n",
    "    prediction_list = list(model.predict(np.array([board]))[0])\n",
    "    move = prediction_list.index(max(prediction_list))\n",
    "    print(prediction_list)\n",
    "    print(move)"
   ]
  },
  {
   "cell_type": "code",
   "execution_count": null,
   "metadata": {},
   "outputs": [],
   "source": [
    "# Test 1\n",
    "for model in [new_model, parial_model]:\n",
    "    make_prediction(model, [0,0,0,\n",
    "                            0,0,0,\n",
    "                            0,0,0])\n",
    "    print()"
   ]
  },
  {
   "cell_type": "code",
   "execution_count": null,
   "metadata": {},
   "outputs": [],
   "source": [
    "# Test 2\n",
    "print('correct answer is 6\\n')\n",
    "for model in [new_model, parial_model]:\n",
    "    make_prediction(model, [1,-1, 0,\n",
    "                            1, 0, 0,\n",
    "                            0,-1, 0])\n",
    "    print()"
   ]
  },
  {
   "cell_type": "code",
   "execution_count": null,
   "metadata": {},
   "outputs": [],
   "source": [
    "# Test 3\n",
    "print('correct answer is 8\\n')\n",
    "for model in [new_model, parial_model]:\n",
    "    make_prediction(model, [1,-1, 0,\n",
    "                            0, 1, 0,\n",
    "                            0,-1, 0])\n",
    "    print()"
   ]
  },
  {
   "cell_type": "code",
   "execution_count": null,
   "metadata": {},
   "outputs": [],
   "source": [
    "# Test 4\n",
    "print('correct answer is 5 or 6\\n')\n",
    "for model in [new_model, parial_model]:\n",
    "    make_prediction(model, [1,-1, 0,\n",
    "                            1, 1, 0,\n",
    "                            0,-1, -1])\n",
    "    print()"
   ]
  },
  {
   "cell_type": "code",
   "execution_count": null,
   "metadata": {},
   "outputs": [],
   "source": [
    "# Test 5\n",
    "print('correct answer is 0\\n')\n",
    "for model in [new_model, parial_model]:\n",
    "    make_prediction(model, [0,-1,  0,\n",
    "                            1, 1, -1,\n",
    "                            0,-1,  1])\n",
    "    print()"
   ]
  },
  {
   "cell_type": "code",
   "execution_count": null,
   "metadata": {},
   "outputs": [],
   "source": [
    "# Test 6\n",
    "print('correct answer is 0\\n')\n",
    "for model in [new_model, parial_model]:\n",
    "    make_prediction(model, [0,-1,  0,\n",
    "                            1, 0, -1,\n",
    "                            1,-1,  1])\n",
    "    print()"
   ]
  },
  {
   "cell_type": "code",
   "execution_count": null,
   "metadata": {},
   "outputs": [],
   "source": []
  },
  {
   "cell_type": "code",
   "execution_count": null,
   "metadata": {},
   "outputs": [],
   "source": [
    "current_board = [[0,0,0],[0,0,0],[0,0,0]]\n",
    "\n",
    "def board_to_prediction_list(board):\n",
    "    vector_board = []\n",
    "    for row in board:\n",
    "        vector_board += row\n",
    "    np_board = np.array([vector_board])\n",
    "\n",
    "    return list(model.predict(np_board)[0])\n",
    "\n",
    "def make_prediction(predicted_moves, available_moves):\n",
    "    \n",
    "    while True:\n",
    "        move = predicted_moves.index(max(predicted_moves))\n",
    "        predicted_moves[move] = 0\n",
    "\n",
    "        if move in available_moves:\n",
    "            return move\n",
    "\n",
    "pred_list = board_to_prediction_list(current_board)\n",
    "print(pred_list)\n",
    "my_move = make_prediction(pred_list,set([3,5,6,7,8]))\n",
    "print(my_move)"
   ]
  },
  {
   "cell_type": "code",
   "execution_count": null,
   "metadata": {},
   "outputs": [],
   "source": [
    "predicted_moves.index(max(predicted_moves))"
   ]
  },
  {
   "cell_type": "code",
   "execution_count": null,
   "metadata": {},
   "outputs": [],
   "source": [
    "model.save('smart_model.h5')"
   ]
  },
  {
   "cell_type": "code",
   "execution_count": null,
   "metadata": {},
   "outputs": [],
   "source": []
  },
  {
   "cell_type": "code",
   "execution_count": null,
   "metadata": {},
   "outputs": [],
   "source": []
  }
 ],
 "metadata": {
  "kernelspec": {
   "display_name": "Python 3",
   "language": "python",
   "name": "python3"
  },
  "language_info": {
   "codemirror_mode": {
    "name": "ipython",
    "version": 3
   },
   "file_extension": ".py",
   "mimetype": "text/x-python",
   "name": "python",
   "nbconvert_exporter": "python",
   "pygments_lexer": "ipython3",
   "version": "3.6.8"
  }
 },
 "nbformat": 4,
 "nbformat_minor": 2
}
