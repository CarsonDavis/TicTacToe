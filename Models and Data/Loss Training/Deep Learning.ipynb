{
 "cells": [
  {
   "cell_type": "code",
   "execution_count": 1,
   "metadata": {},
   "outputs": [
    {
     "name": "stderr",
     "output_type": "stream",
     "text": [
      "Using TensorFlow backend.\n"
     ]
    }
   ],
   "source": [
    "import numpy as np\n",
    "import json\n",
    "from keras.utils.np_utils import to_categorical\n",
    "import time\n",
    "from sklearn.model_selection import train_test_split"
   ]
  },
  {
   "cell_type": "code",
   "execution_count": 4,
   "metadata": {},
   "outputs": [],
   "source": [
    "with open('Random_Smart_Losses.json') as json_file:\n",
    "    training = json.load(json_file)"
   ]
  },
  {
   "cell_type": "code",
   "execution_count": 5,
   "metadata": {},
   "outputs": [
    {
     "name": "stdout",
     "output_type": "stream",
     "text": [
      "54620\n",
      "54620\n"
     ]
    }
   ],
   "source": [
    "for item in [training]:\n",
    "    print(len(item['moves']))\n",
    "    print(len(item['boards']))"
   ]
  },
  {
   "cell_type": "code",
   "execution_count": 6,
   "metadata": {},
   "outputs": [],
   "source": [
    "X = np.array(training['boards'])\n",
    "y = to_categorical(training['moves'])\n",
    "\n",
    "X_train, X_test, y_train, y_test = train_test_split(X, y, test_size=0.1, random_state=42)\n",
    "X_test, X_val, y_test, y_val = train_test_split(X_test, y_test, test_size=0.2, random_state=42)"
   ]
  },
  {
   "cell_type": "code",
   "execution_count": 7,
   "metadata": {},
   "outputs": [
    {
     "name": "stdout",
     "output_type": "stream",
     "text": [
      "49158\n",
      "4369\n",
      "1093\n",
      "49158\n",
      "4369\n",
      "1093\n"
     ]
    }
   ],
   "source": [
    "for i in [X_train, X_test, X_val, y_train, y_test, y_val]:\n",
    "    print(len(i))"
   ]
  },
  {
   "cell_type": "code",
   "execution_count": 9,
   "metadata": {},
   "outputs": [],
   "source": [
    "from keras.models import load_model\n",
    "parial_model = load_model('smart_model_partial.h5')"
   ]
  },
  {
   "cell_type": "code",
   "execution_count": 12,
   "metadata": {},
   "outputs": [
    {
     "name": "stdout",
     "output_type": "stream",
     "text": [
      "Train on 49158 samples, validate on 4369 samples\n",
      "Epoch 1/30\n",
      "49158/49158 [==============================] - 1s 12us/step - loss: 1.2273 - acc: 0.4859 - val_loss: 1.2353 - val_acc: 0.4875\n",
      "Epoch 2/30\n",
      "49158/49158 [==============================] - 1s 11us/step - loss: 1.2267 - acc: 0.4849 - val_loss: 1.2329 - val_acc: 0.4878\n",
      "Epoch 3/30\n",
      "49158/49158 [==============================] - 1s 11us/step - loss: 1.2269 - acc: 0.4850 - val_loss: 1.2325 - val_acc: 0.4891\n",
      "Epoch 4/30\n",
      "49158/49158 [==============================] - 1s 11us/step - loss: 1.2270 - acc: 0.4859 - val_loss: 1.2352 - val_acc: 0.4804\n",
      "Epoch 5/30\n",
      "49158/49158 [==============================] - 1s 12us/step - loss: 1.2269 - acc: 0.4857 - val_loss: 1.2364 - val_acc: 0.4765\n",
      "Epoch 6/30\n",
      "49158/49158 [==============================] - 1s 14us/step - loss: 1.2273 - acc: 0.4862 - val_loss: 1.2340 - val_acc: 0.4797\n",
      "Epoch 7/30\n",
      "49158/49158 [==============================] - 1s 13us/step - loss: 1.2287 - acc: 0.4860 - val_loss: 1.2377 - val_acc: 0.4777\n",
      "Epoch 8/30\n",
      "49158/49158 [==============================] - 1s 13us/step - loss: 1.2263 - acc: 0.4845 - val_loss: 1.2348 - val_acc: 0.4900\n",
      "Epoch 9/30\n",
      "49158/49158 [==============================] - 1s 12us/step - loss: 1.2270 - acc: 0.4867 - val_loss: 1.2345 - val_acc: 0.4887\n",
      "Epoch 10/30\n",
      "49158/49158 [==============================] - 1s 11us/step - loss: 1.2269 - acc: 0.4854 - val_loss: 1.2350 - val_acc: 0.4818\n",
      "Epoch 11/30\n",
      "49158/49158 [==============================] - 1s 11us/step - loss: 1.2264 - acc: 0.4863 - val_loss: 1.2347 - val_acc: 0.4811\n",
      "Epoch 12/30\n",
      "49158/49158 [==============================] - 1s 11us/step - loss: 1.2265 - acc: 0.4859 - val_loss: 1.2322 - val_acc: 0.4839\n",
      "Epoch 13/30\n",
      "49158/49158 [==============================] - 1s 11us/step - loss: 1.2271 - acc: 0.4856 - val_loss: 1.2329 - val_acc: 0.4820\n",
      "Epoch 14/30\n",
      "49158/49158 [==============================] - 1s 11us/step - loss: 1.2293 - acc: 0.4853 - val_loss: 1.2392 - val_acc: 0.4811\n",
      "Epoch 15/30\n",
      "49158/49158 [==============================] - 1s 11us/step - loss: 1.2258 - acc: 0.4868 - val_loss: 1.2376 - val_acc: 0.4866\n",
      "Epoch 16/30\n",
      "49158/49158 [==============================] - 1s 12us/step - loss: 1.2267 - acc: 0.4844 - val_loss: 1.2402 - val_acc: 0.4740\n",
      "Epoch 17/30\n",
      "49158/49158 [==============================] - 1s 11us/step - loss: 1.2265 - acc: 0.4874 - val_loss: 1.2353 - val_acc: 0.4903\n",
      "Epoch 18/30\n",
      "49158/49158 [==============================] - 1s 11us/step - loss: 1.2262 - acc: 0.4872 - val_loss: 1.2341 - val_acc: 0.4864\n",
      "Epoch 19/30\n",
      "49158/49158 [==============================] - 1s 11us/step - loss: 1.2257 - acc: 0.4873 - val_loss: 1.2384 - val_acc: 0.4775\n",
      "Epoch 20/30\n",
      "49158/49158 [==============================] - 1s 11us/step - loss: 1.2261 - acc: 0.4853 - val_loss: 1.2302 - val_acc: 0.4855\n",
      "Epoch 21/30\n",
      "49158/49158 [==============================] - 1s 11us/step - loss: 1.2260 - acc: 0.4859 - val_loss: 1.2389 - val_acc: 0.4811\n",
      "Epoch 22/30\n",
      "49158/49158 [==============================] - 1s 11us/step - loss: 1.2263 - acc: 0.4867 - val_loss: 1.2343 - val_acc: 0.4768\n",
      "Epoch 23/30\n",
      "49158/49158 [==============================] - 1s 11us/step - loss: 1.2258 - acc: 0.4858 - val_loss: 1.2353 - val_acc: 0.4846\n",
      "Epoch 24/30\n",
      "49158/49158 [==============================] - 1s 11us/step - loss: 1.2256 - acc: 0.4850 - val_loss: 1.2324 - val_acc: 0.4919\n",
      "Epoch 25/30\n",
      "49158/49158 [==============================] - 1s 12us/step - loss: 1.2258 - acc: 0.4861 - val_loss: 1.2359 - val_acc: 0.4825\n",
      "Epoch 26/30\n",
      "49158/49158 [==============================] - 1s 11us/step - loss: 1.2261 - acc: 0.4860 - val_loss: 1.2353 - val_acc: 0.4804\n",
      "Epoch 27/30\n",
      "49158/49158 [==============================] - 1s 11us/step - loss: 1.2260 - acc: 0.4842 - val_loss: 1.2339 - val_acc: 0.4857\n",
      "Epoch 28/30\n",
      "49158/49158 [==============================] - 1s 11us/step - loss: 1.2257 - acc: 0.4853 - val_loss: 1.2335 - val_acc: 0.4868\n",
      "Epoch 29/30\n",
      "49158/49158 [==============================] - 1s 11us/step - loss: 1.2258 - acc: 0.4851 - val_loss: 1.2319 - val_acc: 0.4859\n",
      "Epoch 30/30\n",
      "49158/49158 [==============================] - 1s 11us/step - loss: 1.2257 - acc: 0.4852 - val_loss: 1.2363 - val_acc: 0.4807\n"
     ]
    }
   ],
   "source": [
    "from keras import models\n",
    "from keras import layers\n",
    "from keras import optimizers\n",
    "from keras import losses\n",
    "from keras import metrics\n",
    "\n",
    "\n",
    "history = parial_model.fit(X_train,\n",
    "                   y_train,\n",
    "                   epochs=10,\n",
    "                   batch_size = 512,\n",
    "                   validation_data = (X_test, y_test))"
   ]
  },
  {
   "cell_type": "code",
   "execution_count": 13,
   "metadata": {},
   "outputs": [],
   "source": [
    "parial_model.save('loss_model.h5')"
   ]
  },
  {
   "cell_type": "code",
   "execution_count": null,
   "metadata": {},
   "outputs": [],
   "source": []
  },
  {
   "cell_type": "code",
   "execution_count": null,
   "metadata": {},
   "outputs": [],
   "source": []
  },
  {
   "cell_type": "code",
   "execution_count": null,
   "metadata": {},
   "outputs": [],
   "source": []
  },
  {
   "cell_type": "code",
   "execution_count": null,
   "metadata": {},
   "outputs": [],
   "source": []
  },
  {
   "cell_type": "code",
   "execution_count": 11,
   "metadata": {},
   "outputs": [
    {
     "name": "stdout",
     "output_type": "stream",
     "text": [
      "Train on 49158 samples, validate on 4369 samples\n",
      "Epoch 1/10\n",
      "49158/49158 [==============================] - 1s 18us/step - loss: 1.4897 - acc: 0.4216 - val_loss: 1.5075 - val_acc: 0.4317\n",
      "Epoch 2/10\n",
      "49158/49158 [==============================] - 1s 11us/step - loss: 1.2771 - acc: 0.4758 - val_loss: 1.4216 - val_acc: 0.4278\n",
      "Epoch 3/10\n",
      "49158/49158 [==============================] - 1s 11us/step - loss: 1.2550 - acc: 0.4789 - val_loss: 1.3030 - val_acc: 0.4836\n",
      "Epoch 4/10\n",
      "49158/49158 [==============================] - 1s 11us/step - loss: 1.2464 - acc: 0.4808 - val_loss: 1.3100 - val_acc: 0.4704\n",
      "Epoch 5/10\n",
      "49158/49158 [==============================] - 1s 11us/step - loss: 1.2430 - acc: 0.4792 - val_loss: 1.2970 - val_acc: 0.4669\n",
      "Epoch 6/10\n",
      "49158/49158 [==============================] - 1s 12us/step - loss: 1.2391 - acc: 0.4817 - val_loss: 1.2741 - val_acc: 0.4743\n",
      "Epoch 7/10\n",
      "49158/49158 [==============================] - 1s 11us/step - loss: 1.2385 - acc: 0.4817 - val_loss: 1.3218 - val_acc: 0.4699\n",
      "Epoch 8/10\n",
      "49158/49158 [==============================] - 1s 11us/step - loss: 1.2363 - acc: 0.4828 - val_loss: 1.2629 - val_acc: 0.4690\n",
      "Epoch 9/10\n",
      "49158/49158 [==============================] - 1s 11us/step - loss: 1.2361 - acc: 0.4806 - val_loss: 1.2443 - val_acc: 0.4777\n",
      "Epoch 10/10\n",
      "49158/49158 [==============================] - 1s 11us/step - loss: 1.2344 - acc: 0.4834 - val_loss: 1.2636 - val_acc: 0.4646\n",
      "6.18403434753418\n",
      "1093/1093 [==============================] - 0s 28us/step\n",
      "[1.2478223212356427, 0.459286367822326]\n"
     ]
    }
   ],
   "source": [
    "from keras import models\n",
    "from keras import layers\n",
    "from keras import optimizers\n",
    "from keras import losses\n",
    "from keras import metrics\n",
    "\n",
    "new_model = models.Sequential()\n",
    "\n",
    "new_model.add(layers.Dense(729, activation = 'relu', input_shape = (9,)))\n",
    "new_model.add(layers.Dense(729, activation = 'relu'))\n",
    "new_model.add(layers.Dense(729, activation = 'relu'))\n",
    "new_model.add(layers.Dense(81, activation = 'relu'))\n",
    "new_model.add(layers.Dense(81, activation = 'relu'))\n",
    "new_model.add(layers.Dense(81, activation = 'relu'))\n",
    "new_model.add(layers.Dense(9, activation = 'softmax'))\n",
    "\n",
    "\n",
    "\n",
    "new_model.compile(optimizer = 'rmsprop',\n",
    "             loss = 'categorical_crossentropy',\n",
    "             metrics = ['accuracy'])\n",
    "\n",
    "\n",
    "# train the network\n",
    "now = time.time()\n",
    "\n",
    "history = new_model.fit(X_train,\n",
    "                   y_train,\n",
    "                   epochs=10,\n",
    "                   batch_size = 512,\n",
    "                   validation_data = (X_test, y_test))\n",
    "\n",
    "print(time.time()-now)\n",
    "\n",
    "print(new_model.evaluate(X_val, y_val))"
   ]
  },
  {
   "cell_type": "code",
   "execution_count": 55,
   "metadata": {},
   "outputs": [
    {
     "data": {
      "text/plain": [
       "array([[0.02178787, 0.02496707, 0.0257297 , 0.02728997, 0.78476787,\n",
       "        0.03005825, 0.0259759 , 0.02616759, 0.03325576]], dtype=float32)"
      ]
     },
     "execution_count": 55,
     "metadata": {},
     "output_type": "execute_result"
    }
   ],
   "source": [
    "model.predict(np.array([[0,0,0,0,0,0,0,0,0]]))"
   ]
  },
  {
   "cell_type": "code",
   "execution_count": 56,
   "metadata": {},
   "outputs": [
    {
     "data": {
      "text/plain": [
       "array([[0.1683737 , 0.05102368, 0.08542217, 0.04528546, 0.22401215,\n",
       "        0.06745588, 0.0763906 , 0.13408835, 0.14794804]], dtype=float32)"
      ]
     },
     "execution_count": 56,
     "metadata": {},
     "output_type": "execute_result"
    }
   ],
   "source": [
    "model.predict(np.array([[1,-1,0\n",
    "                         ,1,0,0\n",
    "                         ,0,-1,0]]))"
   ]
  },
  {
   "cell_type": "code",
   "execution_count": 45,
   "metadata": {},
   "outputs": [
    {
     "data": {
      "text/plain": [
       "array([[0.00043794, 0.00052062, 0.21343212, 0.00179795, 0.2019275 ,\n",
       "        0.16881675, 0.31666756, 0.00581618, 0.09058337]], dtype=float32)"
      ]
     },
     "execution_count": 45,
     "metadata": {},
     "output_type": "execute_result"
    }
   ],
   "source": [
    "test_model.predict(np.array([[1,-1,0\n",
    "                         ,1,0,0\n",
    "                         ,0,-1,0]]))"
   ]
  },
  {
   "cell_type": "code",
   "execution_count": 47,
   "metadata": {},
   "outputs": [
    {
     "data": {
      "text/plain": [
       "array([[0.00325159, 0.00093395, 0.19345361, 0.16106528, 0.00418115,\n",
       "        0.12907228, 0.23651929, 0.00877786, 0.26274502]], dtype=float32)"
      ]
     },
     "execution_count": 47,
     "metadata": {},
     "output_type": "execute_result"
    }
   ],
   "source": [
    "model.predict(np.array([[1,-1,0\n",
    "                         ,0,1,0\n",
    "                         ,0,-1,0]]))"
   ]
  },
  {
   "cell_type": "code",
   "execution_count": 48,
   "metadata": {},
   "outputs": [
    {
     "data": {
      "text/plain": [
       "array([[1.1218474e-05, 3.7624336e-06, 3.2174754e-01, 3.4098116e-01,\n",
       "        5.0292820e-05, 2.4599876e-01, 3.2355905e-02, 1.3134971e-04,\n",
       "        5.8719952e-02]], dtype=float32)"
      ]
     },
     "execution_count": 48,
     "metadata": {},
     "output_type": "execute_result"
    }
   ],
   "source": [
    "test_model.predict(np.array([[1,-1,0\n",
    "                         ,0,1,0\n",
    "                         ,0,-1,0]]))"
   ]
  },
  {
   "cell_type": "code",
   "execution_count": 50,
   "metadata": {},
   "outputs": [
    {
     "data": {
      "text/plain": [
       "array([[2.5778514e-04, 2.6437433e-02, 1.2027474e-01, 5.6764647e-02,\n",
       "        5.4575043e-04, 9.6586965e-02, 2.5654316e-01, 1.6845371e-01,\n",
       "        2.7413586e-01]], dtype=float32)"
      ]
     },
     "execution_count": 50,
     "metadata": {},
     "output_type": "execute_result"
    }
   ],
   "source": [
    "model.predict(np.array([[1,0,0\n",
    "                         ,0,1,0\n",
    "                         ,0,0,0]]))"
   ]
  },
  {
   "cell_type": "code",
   "execution_count": 51,
   "metadata": {},
   "outputs": [
    {
     "data": {
      "text/plain": [
       "array([[2.26156026e-05, 3.40315397e-03, 2.33651400e-02, 2.84878999e-01,\n",
       "        9.09274968e-05, 2.25693494e-01, 5.71935624e-03, 1.10313356e-01,\n",
       "        3.46512944e-01]], dtype=float32)"
      ]
     },
     "execution_count": 51,
     "metadata": {},
     "output_type": "execute_result"
    }
   ],
   "source": [
    "test_model.predict(np.array([[1,0,0\n",
    "                         ,0,1,0\n",
    "                         ,0,0,0]]))"
   ]
  },
  {
   "cell_type": "code",
   "execution_count": null,
   "metadata": {},
   "outputs": [],
   "source": [
    "### the above move prediction isn't bad, but it blocks instead of going for the win"
   ]
  },
  {
   "cell_type": "code",
   "execution_count": 33,
   "metadata": {},
   "outputs": [],
   "source": []
  },
  {
   "cell_type": "code",
   "execution_count": null,
   "metadata": {},
   "outputs": [],
   "source": []
  },
  {
   "cell_type": "code",
   "execution_count": 35,
   "metadata": {},
   "outputs": [],
   "source": [
    "from keras.models import load_model\n",
    "test_model = load_model('smart_model.h5')"
   ]
  },
  {
   "cell_type": "code",
   "execution_count": 36,
   "metadata": {},
   "outputs": [
    {
     "data": {
      "text/plain": [
       "array([[0.02982613, 0.02642992, 0.04474984, 0.04018626, 0.70327   ,\n",
       "        0.04147457, 0.03849569, 0.03270375, 0.04286384]], dtype=float32)"
      ]
     },
     "execution_count": 36,
     "metadata": {},
     "output_type": "execute_result"
    }
   ],
   "source": [
    "test_model.predict(np.array([[0,0,0,0,0,0,0,0,0]]))"
   ]
  },
  {
   "cell_type": "code",
   "execution_count": 37,
   "metadata": {},
   "outputs": [
    {
     "data": {
      "text/plain": [
       "array([[0.00406162, 0.01751591, 0.04555007, 0.00840351, 0.17237176,\n",
       "        0.21559587, 0.06073135, 0.2012618 , 0.27450812]], dtype=float32)"
      ]
     },
     "execution_count": 37,
     "metadata": {},
     "output_type": "execute_result"
    }
   ],
   "source": [
    "model.predict(np.array([[1,0,0\n",
    "                         ,1,0,0\n",
    "                         ,0,0,0]]))"
   ]
  },
  {
   "cell_type": "code",
   "execution_count": null,
   "metadata": {},
   "outputs": [],
   "source": [
    "model.predict(np.array([[1,0,0\n",
    "                         ,0,1,0\n",
    "                         ,0,0,0]]))"
   ]
  },
  {
   "cell_type": "code",
   "execution_count": null,
   "metadata": {},
   "outputs": [],
   "source": []
  },
  {
   "cell_type": "code",
   "execution_count": null,
   "metadata": {},
   "outputs": [],
   "source": []
  },
  {
   "cell_type": "code",
   "execution_count": null,
   "metadata": {},
   "outputs": [],
   "source": []
  },
  {
   "cell_type": "code",
   "execution_count": null,
   "metadata": {},
   "outputs": [],
   "source": [
    "current_board = [[0,0,0],[0,0,0],[0,0,0]]\n",
    "\n",
    "def board_to_prediction_list(board):\n",
    "    vector_board = []\n",
    "    for row in board:\n",
    "        vector_board += row\n",
    "    np_board = np.array([vector_board])\n",
    "\n",
    "    return list(model.predict(np_board)[0])\n",
    "\n",
    "def make_prediction(predicted_moves, available_moves):\n",
    "    \n",
    "    while True:\n",
    "        move = predicted_moves.index(max(predicted_moves))\n",
    "        predicted_moves[move] = 0\n",
    "\n",
    "        if move in available_moves:\n",
    "            return move\n",
    "\n",
    "pred_list = board_to_prediction_list(current_board)\n",
    "print(pred_list)\n",
    "my_move = make_prediction(pred_list,set([3,5,6,7,8]))\n",
    "print(my_move)"
   ]
  },
  {
   "cell_type": "code",
   "execution_count": null,
   "metadata": {},
   "outputs": [],
   "source": [
    "predicted_moves.index(max(predicted_moves))"
   ]
  },
  {
   "cell_type": "code",
   "execution_count": 58,
   "metadata": {},
   "outputs": [
    {
     "name": "stdout",
     "output_type": "stream",
     "text": [
      "Train on 270276 samples, validate on 54056 samples\n",
      "Epoch 1/10\n",
      "270276/270276 [==============================] - 4s 14us/step - loss: 0.7634 - acc: 0.7829 - val_loss: 0.6116 - val_acc: 0.8221\n",
      "Epoch 2/10\n",
      "270276/270276 [==============================] - 3s 12us/step - loss: 0.6117 - acc: 0.8220 - val_loss: 0.6114 - val_acc: 0.8216\n",
      "Epoch 3/10\n",
      "270276/270276 [==============================] - 3s 12us/step - loss: 0.5977 - acc: 0.8235 - val_loss: 0.6125 - val_acc: 0.8229\n",
      "Epoch 4/10\n",
      "270276/270276 [==============================] - 3s 12us/step - loss: 0.5911 - acc: 0.8245 - val_loss: 0.6060 - val_acc: 0.8199\n",
      "Epoch 5/10\n",
      "270276/270276 [==============================] - 4s 14us/step - loss: 0.5870 - acc: 0.8252 - val_loss: 0.5926 - val_acc: 0.8232\n",
      "Epoch 6/10\n",
      "270276/270276 [==============================] - 3s 12us/step - loss: 0.5846 - acc: 0.8258 - val_loss: 0.5970 - val_acc: 0.8223\n",
      "Epoch 7/10\n",
      "270276/270276 [==============================] - 3s 12us/step - loss: 0.5818 - acc: 0.8260 - val_loss: 0.5997 - val_acc: 0.8233\n",
      "Epoch 8/10\n",
      "270276/270276 [==============================] - 3s 12us/step - loss: 0.5800 - acc: 0.8264 - val_loss: 0.5933 - val_acc: 0.8217\n",
      "Epoch 9/10\n",
      "270276/270276 [==============================] - 4s 13us/step - loss: 0.5789 - acc: 0.8266 - val_loss: 0.5876 - val_acc: 0.8231\n",
      "Epoch 10/10\n",
      "270276/270276 [==============================] - 4s 13us/step - loss: 0.5776 - acc: 0.8268 - val_loss: 0.5876 - val_acc: 0.8220\n",
      "34.127105474472046\n",
      "13514/13514 [==============================] - 0s 33us/step\n",
      "[0.5842191214980997, 0.8217404173273333]\n"
     ]
    }
   ],
   "source": [
    "# this is the model I used\n",
    "from keras import models\n",
    "from keras import layers\n",
    "from keras import optimizers\n",
    "from keras import losses\n",
    "from keras import metrics\n",
    "\n",
    "model = models.Sequential()\n",
    "\n",
    "model.add(layers.Dense(729, activation = 'relu', input_shape = (9,)))\n",
    "model.add(layers.Dense(729, activation = 'relu'))\n",
    "model.add(layers.Dense(729, activation = 'relu'))\n",
    "model.add(layers.Dense(81, activation = 'relu'))\n",
    "model.add(layers.Dense(81, activation = 'relu'))\n",
    "model.add(layers.Dense(81, activation = 'relu'))\n",
    "model.add(layers.Dense(9, activation = 'softmax'))\n",
    "\n",
    "\n",
    "\n",
    "model.compile(optimizer = 'rmsprop',\n",
    "             loss = 'categorical_crossentropy',\n",
    "             metrics = ['accuracy'])\n",
    "\n",
    "\n",
    "# train the network\n",
    "now = time.time()\n",
    "\n",
    "history = model.fit(X_train,\n",
    "                   y_train,\n",
    "                   epochs=10,\n",
    "                   batch_size = 512,\n",
    "                   validation_data = (X_test, y_test))\n",
    "\n",
    "print(time.time()-now)\n",
    "\n",
    "print(model.evaluate(X_val, y_val))"
   ]
  },
  {
   "cell_type": "code",
   "execution_count": 59,
   "metadata": {},
   "outputs": [],
   "source": [
    "model.save('smart_model.h5')"
   ]
  },
  {
   "cell_type": "code",
   "execution_count": null,
   "metadata": {},
   "outputs": [],
   "source": []
  }
 ],
 "metadata": {
  "kernelspec": {
   "display_name": "Python 3",
   "language": "python",
   "name": "python3"
  },
  "language_info": {
   "codemirror_mode": {
    "name": "ipython",
    "version": 3
   },
   "file_extension": ".py",
   "mimetype": "text/x-python",
   "name": "python",
   "nbconvert_exporter": "python",
   "pygments_lexer": "ipython3",
   "version": "3.6.8"
  }
 },
 "nbformat": 4,
 "nbformat_minor": 2
}
