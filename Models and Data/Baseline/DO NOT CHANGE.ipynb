{
 "cells": [
  {
   "cell_type": "code",
   "execution_count": 1,
   "metadata": {},
   "outputs": [
    {
     "name": "stderr",
     "output_type": "stream",
     "text": [
      "Using TensorFlow backend.\n"
     ]
    }
   ],
   "source": [
    "import numpy as np\n",
    "import json\n",
    "from keras.utils.np_utils import to_categorical\n",
    "import time\n",
    "from sklearn.model_selection import train_test_split"
   ]
  },
  {
   "cell_type": "code",
   "execution_count": 2,
   "metadata": {},
   "outputs": [],
   "source": [
    "with open('all_possible_games.json') as json_file:\n",
    "    training = json.load(json_file)"
   ]
  },
  {
   "cell_type": "code",
   "execution_count": 3,
   "metadata": {},
   "outputs": [
    {
     "name": "stdout",
     "output_type": "stream",
     "text": [
      "3534339\n",
      "3534339\n"
     ]
    }
   ],
   "source": [
    "for item in [training]:\n",
    "    print(len(item['moves']))\n",
    "    print(len(item['boards']))"
   ]
  },
  {
   "cell_type": "code",
   "execution_count": 4,
   "metadata": {},
   "outputs": [],
   "source": [
    "X = np.array(training['boards'])\n",
    "y = to_categorical(training['moves'])\n",
    "\n",
    "X_train, X_test, y_train, y_test = train_test_split(X, y, test_size=0.1, random_state=42)\n",
    "X_test, X_val, y_test, y_val = train_test_split(X_test, y_test, test_size=0.2, random_state=42)"
   ]
  },
  {
   "cell_type": "code",
   "execution_count": 5,
   "metadata": {},
   "outputs": [
    {
     "name": "stdout",
     "output_type": "stream",
     "text": [
      "3180905\n",
      "282747\n",
      "70687\n",
      "3180905\n",
      "282747\n",
      "70687\n"
     ]
    }
   ],
   "source": [
    "for i in [X_train, X_test, X_val, y_train, y_test, y_val]:\n",
    "    print(len(i))"
   ]
  },
  {
   "cell_type": "code",
   "execution_count": 6,
   "metadata": {},
   "outputs": [
    {
     "name": "stdout",
     "output_type": "stream",
     "text": [
      "Train on 3180905 samples, validate on 282747 samples\n",
      "Epoch 1/12\n",
      "3180905/3180905 [==============================] - 32s 10us/step - loss: 1.5301 - acc: 0.3333 - val_loss: 1.5047 - val_acc: 0.3368\n",
      "Epoch 2/12\n",
      "3180905/3180905 [==============================] - 30s 9us/step - loss: 1.5042 - acc: 0.3388 - val_loss: 1.5049 - val_acc: 0.3388\n",
      "Epoch 3/12\n",
      "3180905/3180905 [==============================] - 30s 10us/step - loss: 1.5058 - acc: 0.3387 - val_loss: 1.5127 - val_acc: 0.3359\n",
      "Epoch 4/12\n",
      "3180905/3180905 [==============================] - 30s 9us/step - loss: 1.5105 - acc: 0.3365 - val_loss: 1.5082 - val_acc: 0.3327\n",
      "Epoch 5/12\n",
      "3180905/3180905 [==============================] - 30s 9us/step - loss: 1.5185 - acc: 0.3326 - val_loss: 1.5216 - val_acc: 0.3287\n",
      "Epoch 6/12\n",
      "3180905/3180905 [==============================] - 30s 9us/step - loss: 1.5263 - acc: 0.3302 - val_loss: 1.5169 - val_acc: 0.3298\n",
      "Epoch 7/12\n",
      "3180905/3180905 [==============================] - 30s 9us/step - loss: 1.5401 - acc: 0.3261 - val_loss: 1.5448 - val_acc: 0.3233\n",
      "Epoch 8/12\n",
      "3180905/3180905 [==============================] - 30s 9us/step - loss: 1.5476 - acc: 0.3235 - val_loss: 1.5741 - val_acc: 0.3155\n",
      "Epoch 9/12\n",
      "3180905/3180905 [==============================] - 30s 9us/step - loss: 1.5486 - acc: 0.3245 - val_loss: 1.5711 - val_acc: 0.3256\n",
      "Epoch 10/12\n",
      "3180905/3180905 [==============================] - 30s 9us/step - loss: 1.5594 - acc: 0.3222 - val_loss: 1.5399 - val_acc: 0.3237\n",
      "Epoch 11/12\n",
      "3180905/3180905 [==============================] - 31s 10us/step - loss: 1.5650 - acc: 0.3191 - val_loss: 1.5715 - val_acc: 0.3158\n",
      "Epoch 12/12\n",
      "3180905/3180905 [==============================] - 30s 10us/step - loss: 1.5604 - acc: 0.3191 - val_loss: 1.5700 - val_acc: 0.3206\n",
      "70687/70687 [==============================] - 2s 26us/step\n",
      "[1.572725376721657, 0.32086522273913987]\n"
     ]
    }
   ],
   "source": [
    "from keras import models\n",
    "from keras import layers\n",
    "from keras import optimizers\n",
    "from keras import losses\n",
    "from keras import metrics\n",
    "\n",
    "model = models.Sequential()\n",
    "\n",
    "model.add(layers.Dense(729, activation = 'relu', input_shape = (9,)))\n",
    "model.add(layers.Dense(729, activation = 'relu'))\n",
    "model.add(layers.Dense(81, activation = 'relu'))\n",
    "model.add(layers.Dense(81, activation = 'relu'))\n",
    "model.add(layers.Dense(81, activation = 'relu'))\n",
    "model.add(layers.Dense(81, activation = 'relu'))\n",
    "model.add(layers.Dense(9, activation = 'softmax'))\n",
    "\n",
    "\n",
    "model.compile(optimizer = 'rmsprop',\n",
    "             loss = 'categorical_crossentropy',\n",
    "             metrics = ['accuracy'])\n",
    "\n",
    "\n",
    "# train the network\n",
    "now = time.time()\n",
    "\n",
    "history = model.fit(X_train,\n",
    "                   y_train,\n",
    "                   epochs=12,\n",
    "                   batch_size = 512,\n",
    "                   validation_data = (X_test, y_test))\n",
    "\n",
    "print(model.evaluate(X_val, y_val))"
   ]
  },
  {
   "cell_type": "code",
   "execution_count": 7,
   "metadata": {},
   "outputs": [],
   "source": [
    "model.save('all_possible_games_1.h5')"
   ]
  },
  {
   "cell_type": "code",
   "execution_count": 8,
   "metadata": {},
   "outputs": [
    {
     "name": "stdout",
     "output_type": "stream",
     "text": [
      "Train on 3180905 samples, validate on 282747 samples\n",
      "Epoch 1/6\n",
      "3180905/3180905 [==============================] - 9s 3us/step - loss: 1.6042 - acc: 0.3239 - val_loss: 1.5534 - val_acc: 0.3186\n",
      "Epoch 2/6\n",
      "3180905/3180905 [==============================] - 9s 3us/step - loss: 1.5237 - acc: 0.3346 - val_loss: 1.5316 - val_acc: 0.3265\n",
      "Epoch 3/6\n",
      "3180905/3180905 [==============================] - 9s 3us/step - loss: 1.5080 - acc: 0.3376 - val_loss: 1.5209 - val_acc: 0.3276\n",
      "Epoch 4/6\n",
      "3180905/3180905 [==============================] - 9s 3us/step - loss: 1.5001 - acc: 0.3403 - val_loss: 1.5003 - val_acc: 0.3404\n",
      "Epoch 5/6\n",
      "3180905/3180905 [==============================] - 9s 3us/step - loss: 1.4964 - acc: 0.3419 - val_loss: 1.4997 - val_acc: 0.3398\n",
      "Epoch 6/6\n",
      "3180905/3180905 [==============================] - 9s 3us/step - loss: 1.4940 - acc: 0.3431 - val_loss: 1.4958 - val_acc: 0.3433\n",
      "70687/70687 [==============================] - 2s 26us/step\n",
      "[1.496915393969698, 0.34267970064837633]\n"
     ]
    }
   ],
   "source": [
    "from keras import models\n",
    "from keras import layers\n",
    "from keras import optimizers\n",
    "from keras import losses\n",
    "from keras import metrics\n",
    "\n",
    "model = models.Sequential()\n",
    "\n",
    "model.add(layers.Dense(729, activation = 'relu', input_shape = (9,)))\n",
    "model.add(layers.Dense(729, activation = 'relu'))\n",
    "model.add(layers.Dense(81, activation = 'relu'))\n",
    "model.add(layers.Dense(81, activation = 'relu'))\n",
    "model.add(layers.Dense(81, activation = 'relu'))\n",
    "model.add(layers.Dense(81, activation = 'relu'))\n",
    "model.add(layers.Dense(9, activation = 'softmax'))\n",
    "\n",
    "\n",
    "model.compile(optimizer = 'rmsprop',\n",
    "             loss = 'categorical_crossentropy',\n",
    "             metrics = ['accuracy'])\n",
    "\n",
    "\n",
    "# train the network\n",
    "now = time.time()\n",
    "\n",
    "history = model.fit(X_train,\n",
    "                   y_train,\n",
    "                   epochs=6,\n",
    "                   batch_size = 5120,\n",
    "                   validation_data = (X_test, y_test))\n",
    "\n",
    "print(model.evaluate(X_val, y_val))\n",
    "model.save('all_possible_games_2.h5')"
   ]
  },
  {
   "cell_type": "code",
   "execution_count": 9,
   "metadata": {},
   "outputs": [
    {
     "name": "stdout",
     "output_type": "stream",
     "text": [
      "Train on 3180905 samples, validate on 282747 samples\n",
      "Epoch 1/6\n",
      "3180905/3180905 [==============================] - 16s 5us/step - loss: 1.6445 - acc: 0.3147 - val_loss: 1.5452 - val_acc: 0.3264\n",
      "Epoch 2/6\n",
      "3180905/3180905 [==============================] - 16s 5us/step - loss: 1.5158 - acc: 0.3334 - val_loss: 1.5157 - val_acc: 0.3330\n",
      "Epoch 3/6\n",
      "3180905/3180905 [==============================] - 16s 5us/step - loss: 1.5030 - acc: 0.3382 - val_loss: 1.5071 - val_acc: 0.3359\n",
      "Epoch 4/6\n",
      "3180905/3180905 [==============================] - 16s 5us/step - loss: 1.4981 - acc: 0.3401 - val_loss: 1.5053 - val_acc: 0.3344\n",
      "Epoch 5/6\n",
      "3180905/3180905 [==============================] - 16s 5us/step - loss: 1.4955 - acc: 0.3420 - val_loss: 1.5023 - val_acc: 0.3370\n",
      "Epoch 6/6\n",
      "3180905/3180905 [==============================] - 16s 5us/step - loss: 1.4940 - acc: 0.3430 - val_loss: 1.5016 - val_acc: 0.3395\n",
      "70687/70687 [==============================] - 2s 29us/step\n",
      "[1.5017755862696394, 0.3396947104817178]\n"
     ]
    }
   ],
   "source": [
    "# this model never loses\n",
    "\n",
    "from keras import models\n",
    "from keras import layers\n",
    "from keras import optimizers\n",
    "from keras import losses\n",
    "from keras import metrics\n",
    "\n",
    "model = models.Sequential()\n",
    "\n",
    "model.add(layers.Dense(729, activation = 'relu', input_shape = (9,)))\n",
    "model.add(layers.Dense(729, activation = 'relu'))\n",
    "model.add(layers.Dense(729, activation = 'relu'))\n",
    "model.add(layers.Dense(729, activation = 'relu'))\n",
    "model.add(layers.Dense(81, activation = 'relu'))\n",
    "model.add(layers.Dense(81, activation = 'relu'))\n",
    "model.add(layers.Dense(81, activation = 'relu'))\n",
    "model.add(layers.Dense(81, activation = 'relu'))\n",
    "model.add(layers.Dense(9, activation = 'softmax'))\n",
    "\n",
    "\n",
    "model.compile(optimizer = 'rmsprop',\n",
    "             loss = 'categorical_crossentropy',\n",
    "             metrics = ['accuracy'])\n",
    "\n",
    "\n",
    "# train the network\n",
    "now = time.time()\n",
    "\n",
    "history = model.fit(X_train,\n",
    "                   y_train,\n",
    "                   epochs=6,\n",
    "                   batch_size = 5120,\n",
    "                   validation_data = (X_test, y_test))\n",
    "\n",
    "print(model.evaluate(X_val, y_val))\n",
    "model.save('all_possible_games_3.h5')"
   ]
  },
  {
   "cell_type": "code",
   "execution_count": 10,
   "metadata": {},
   "outputs": [
    {
     "name": "stdout",
     "output_type": "stream",
     "text": [
      "Train on 3180905 samples, validate on 282747 samples\n",
      "Epoch 1/9\n",
      "3180905/3180905 [==============================] - 17s 5us/step - loss: 1.6433 - acc: 0.3151 - val_loss: 1.5665 - val_acc: 0.3177\n",
      "Epoch 2/9\n",
      "3180905/3180905 [==============================] - 16s 5us/step - loss: 1.5157 - acc: 0.3333 - val_loss: 1.5228 - val_acc: 0.3321\n",
      "Epoch 3/9\n",
      "3180905/3180905 [==============================] - 16s 5us/step - loss: 1.5029 - acc: 0.3379 - val_loss: 1.5118 - val_acc: 0.3301\n",
      "Epoch 4/9\n",
      "3180905/3180905 [==============================] - 16s 5us/step - loss: 1.4980 - acc: 0.3405 - val_loss: 1.5028 - val_acc: 0.3366\n",
      "Epoch 5/9\n",
      "3180905/3180905 [==============================] - 16s 5us/step - loss: 1.4955 - acc: 0.3419 - val_loss: 1.4997 - val_acc: 0.3402\n",
      "Epoch 6/9\n",
      "3180905/3180905 [==============================] - 16s 5us/step - loss: 1.4937 - acc: 0.3432 - val_loss: 1.5008 - val_acc: 0.3427\n",
      "Epoch 7/9\n",
      "3180905/3180905 [==============================] - 16s 5us/step - loss: 1.4929 - acc: 0.3436 - val_loss: 1.4958 - val_acc: 0.3410\n",
      "Epoch 8/9\n",
      "3180905/3180905 [==============================] - 16s 5us/step - loss: 1.4921 - acc: 0.3440 - val_loss: 1.5060 - val_acc: 0.3388\n",
      "Epoch 9/9\n",
      "3180905/3180905 [==============================] - 16s 5us/step - loss: 1.4916 - acc: 0.3444 - val_loss: 1.4948 - val_acc: 0.3415\n",
      "70687/70687 [==============================] - 2s 29us/step\n",
      "[1.49572978003592, 0.342495791299851]\n"
     ]
    }
   ],
   "source": [
    "from keras import models\n",
    "from keras import layers\n",
    "from keras import optimizers\n",
    "from keras import losses\n",
    "from keras import metrics\n",
    "\n",
    "model = models.Sequential()\n",
    "\n",
    "model.add(layers.Dense(729, activation = 'relu', input_shape = (9,)))\n",
    "model.add(layers.Dense(729, activation = 'relu'))\n",
    "model.add(layers.Dense(729, activation = 'relu'))\n",
    "model.add(layers.Dense(729, activation = 'relu'))\n",
    "model.add(layers.Dense(81, activation = 'relu'))\n",
    "model.add(layers.Dense(81, activation = 'relu'))\n",
    "model.add(layers.Dense(81, activation = 'relu'))\n",
    "model.add(layers.Dense(81, activation = 'relu'))\n",
    "model.add(layers.Dense(9, activation = 'softmax'))\n",
    "\n",
    "\n",
    "model.compile(optimizer = 'rmsprop',\n",
    "             loss = 'categorical_crossentropy',\n",
    "             metrics = ['accuracy'])\n",
    "\n",
    "\n",
    "# train the network\n",
    "now = time.time()\n",
    "\n",
    "history = model.fit(X_train,\n",
    "                   y_train,\n",
    "                   epochs=9,\n",
    "                   batch_size = 5120,\n",
    "                   validation_data = (X_test, y_test))\n",
    "\n",
    "print(model.evaluate(X_val, y_val))\n",
    "model.save('all_possible_games_4.h5')"
   ]
  },
  {
   "cell_type": "code",
   "execution_count": 12,
   "metadata": {},
   "outputs": [
    {
     "name": "stdout",
     "output_type": "stream",
     "text": [
      "70687/70687 [==============================] - 3s 39us/step\n",
      "[1.5248273727584774, 0.3334842333064323]\n"
     ]
    }
   ],
   "source": [
    "print(model.evaluate(X_val, y_val))"
   ]
  },
  {
   "cell_type": "code",
   "execution_count": 13,
   "metadata": {},
   "outputs": [],
   "source": [
    "# model.save('all_possible_games_3462.h5')\n"
   ]
  },
  {
   "cell_type": "code",
   "execution_count": null,
   "metadata": {},
   "outputs": [],
   "source": []
  },
  {
   "cell_type": "code",
   "execution_count": 45,
   "metadata": {},
   "outputs": [],
   "source": [
    "def make_prediction(model, board):\n",
    "    prediction_list = list(model.predict(np.array([board]))[0])\n",
    "    move = prediction_list.index(max(prediction_list))\n",
    "    print(prediction_list)\n",
    "    print(move)"
   ]
  },
  {
   "cell_type": "code",
   "execution_count": 35,
   "metadata": {},
   "outputs": [
    {
     "name": "stdout",
     "output_type": "stream",
     "text": [
      "[0.08705829, 0.042095996, 0.120577954, 0.1116052, 0.09858884, 0.19317834, 0.15567848, 0.06502665, 0.1261903]\n",
      "5\n",
      "\n",
      "[0.0724203, 0.05704599, 0.11077164, 0.13728996, 0.117960274, 0.19007541, 0.105418645, 0.08204525, 0.12697251]\n",
      "5\n",
      "\n"
     ]
    }
   ],
   "source": [
    "# Test 1\n",
    "for model in [new_model, parial_model]:\n",
    "    make_prediction(model, [0,0,0,\n",
    "                            0,0,0,\n",
    "                            0,0,0])\n",
    "    print()"
   ]
  },
  {
   "cell_type": "code",
   "execution_count": 36,
   "metadata": {},
   "outputs": [
    {
     "name": "stdout",
     "output_type": "stream",
     "text": [
      "correct answer is 6\n",
      "\n",
      "[0.0016998232, 0.45132422, 5.340927e-08, 0.00026407052, 2.7811368e-14, 0.062088132, 5.277201e-05, 0.48454967, 2.1246635e-05]\n",
      "7\n",
      "\n",
      "[0.00055867643, 0.0043586534, 0.009743671, 0.0014634077, 0.09002632, 0.14640775, 0.63609505, 0.0051225056, 0.106223926]\n",
      "6\n",
      "\n"
     ]
    }
   ],
   "source": [
    "# Test 2\n",
    "print('correct answer is 6\\n')\n",
    "for model in [new_model, parial_model]:\n",
    "    make_prediction(model, [1,-1, 0,\n",
    "                            1, 0, 0,\n",
    "                            0,-1, 0])\n",
    "    print()"
   ]
  },
  {
   "cell_type": "code",
   "execution_count": 37,
   "metadata": {},
   "outputs": [
    {
     "name": "stdout",
     "output_type": "stream",
     "text": [
      "correct answer is 8\n",
      "\n",
      "[1.065446e-05, 0.9762814, 2.7794428e-08, 0.012896196, 2.5951622e-15, 0.009994961, 1.2420514e-05, 0.0007658288, 3.855595e-05]\n",
      "1\n",
      "\n",
      "[0.00045785095, 0.0016771563, 0.04186555, 0.4657684, 0.00047322657, 0.06195486, 0.11757201, 0.00038255172, 0.30984846]\n",
      "3\n",
      "\n"
     ]
    }
   ],
   "source": [
    "# Test 3\n",
    "print('correct answer is 8\\n')\n",
    "for model in [new_model, parial_model]:\n",
    "    make_prediction(model, [1,-1, 0,\n",
    "                            0, 1, 0,\n",
    "                            0,-1, 0])\n",
    "    print()"
   ]
  },
  {
   "cell_type": "code",
   "execution_count": 38,
   "metadata": {},
   "outputs": [
    {
     "name": "stdout",
     "output_type": "stream",
     "text": [
      "correct answer is 5 or 6\n",
      "\n",
      "[5.654078e-09, 3.341303e-09, 5.658157e-20, 7.554075e-11, 0.0, 0.9999999, 1.2858009e-13, 1.411965e-07, 9.425107e-16]\n",
      "5\n",
      "\n",
      "[1.2663373e-19, 5.5706685e-15, 1.267243e-16, 2.4310365e-12, 2.437692e-33, 0.99953187, 0.00046813147, 1.435266e-11, 9.830525e-16]\n",
      "5\n",
      "\n"
     ]
    }
   ],
   "source": [
    "# Test 4\n",
    "print('correct answer is 5 or 6\\n')\n",
    "for model in [new_model, parial_model]:\n",
    "    make_prediction(model, [1,-1, 0,\n",
    "                            1, 1, 0,\n",
    "                            0,-1, -1])\n",
    "    print()"
   ]
  },
  {
   "cell_type": "code",
   "execution_count": 39,
   "metadata": {},
   "outputs": [
    {
     "name": "stdout",
     "output_type": "stream",
     "text": [
      "correct answer is 0\n",
      "\n",
      "[0.99401456, 1.4809096e-07, 3.2183128e-10, 6.462481e-08, 1.3331589e-18, 2.9747804e-05, 1.0059728e-05, 0.0059445333, 7.834826e-07]\n",
      "0\n",
      "\n",
      "[0.5510967, 3.0734547e-05, 0.01329813, 0.0022060194, 4.833137e-08, 0.00013696971, 0.43296203, 0.0002375819, 3.1798445e-05]\n",
      "0\n",
      "\n"
     ]
    }
   ],
   "source": [
    "# Test 5\n",
    "print('correct answer is 0\\n')\n",
    "for model in [new_model, parial_model]:\n",
    "    make_prediction(model, [0,-1,  0,\n",
    "                            1, 1, -1,\n",
    "                            0,-1,  1])\n",
    "    print()"
   ]
  },
  {
   "cell_type": "code",
   "execution_count": 40,
   "metadata": {},
   "outputs": [
    {
     "name": "stdout",
     "output_type": "stream",
     "text": [
      "correct answer is 0\n",
      "\n",
      "[0.96695507, 5.9720486e-07, 1.1360268e-08, 1.7980565e-08, 2.0041508e-17, 7.36748e-07, 1.8301902e-08, 0.033043675, 1.3556401e-08]\n",
      "0\n",
      "\n",
      "[0.9193261, 0.00071931473, 0.030892884, 0.0071542994, 0.0013991677, 9.0813984e-07, 2.1822583e-05, 0.040448602, 3.6978963e-05]\n",
      "0\n",
      "\n"
     ]
    }
   ],
   "source": [
    "# Test 6\n",
    "print('correct answer is 0\\n')\n",
    "for model in [new_model, parial_model]:\n",
    "    make_prediction(model, [0,-1,  0,\n",
    "                            1, 0, -1,\n",
    "                            1,-1,  1])\n",
    "    print()"
   ]
  },
  {
   "cell_type": "code",
   "execution_count": null,
   "metadata": {},
   "outputs": [],
   "source": []
  },
  {
   "cell_type": "code",
   "execution_count": 41,
   "metadata": {},
   "outputs": [
    {
     "name": "stdout",
     "output_type": "stream",
     "text": [
      "[0.0724203, 0.05704599, 0.11077164, 0.13728996, 0.117960274, 0.19007541, 0.105418645, 0.08204525, 0.12697251]\n",
      "5\n"
     ]
    }
   ],
   "source": []
  },
  {
   "cell_type": "code",
   "execution_count": null,
   "metadata": {},
   "outputs": [],
   "source": []
  },
  {
   "cell_type": "code",
   "execution_count": null,
   "metadata": {},
   "outputs": [],
   "source": []
  },
  {
   "cell_type": "code",
   "execution_count": 42,
   "metadata": {},
   "outputs": [
    {
     "ename": "AttributeError",
     "evalue": "'Sequential' object has no attribute 'index'",
     "output_type": "error",
     "traceback": [
      "\u001b[1;31m---------------------------------------------------------------------------\u001b[0m",
      "\u001b[1;31mAttributeError\u001b[0m                            Traceback (most recent call last)",
      "\u001b[1;32m<ipython-input-42-afa17be1488b>\u001b[0m in \u001b[0;36m<module>\u001b[1;34m\u001b[0m\n\u001b[1;32m----> 1\u001b[1;33m \u001b[0mmake_prediction\u001b[0m\u001b[1;33m(\u001b[0m\u001b[0mparial_model\u001b[0m\u001b[1;33m,\u001b[0m \u001b[1;33m[\u001b[0m\u001b[1;33m-\u001b[0m\u001b[1;36m1\u001b[0m\u001b[1;33m,\u001b[0m\u001b[1;33m-\u001b[0m\u001b[1;36m1\u001b[0m\u001b[1;33m,\u001b[0m\u001b[1;36m1\u001b[0m\u001b[1;33m,\u001b[0m\u001b[1;36m1\u001b[0m\u001b[1;33m,\u001b[0m\u001b[1;36m0\u001b[0m\u001b[1;33m,\u001b[0m\u001b[1;33m-\u001b[0m\u001b[1;36m1\u001b[0m\u001b[1;33m,\u001b[0m\u001b[1;33m-\u001b[0m\u001b[1;36m1\u001b[0m\u001b[1;33m,\u001b[0m\u001b[1;36m1\u001b[0m\u001b[1;33m,\u001b[0m\u001b[1;36m1\u001b[0m\u001b[1;33m]\u001b[0m\u001b[1;33m)\u001b[0m\u001b[1;33m\u001b[0m\u001b[1;33m\u001b[0m\u001b[0m\n\u001b[0m",
      "\u001b[1;32m<ipython-input-41-7a7bbcb4d4c4>\u001b[0m in \u001b[0;36mmake_prediction\u001b[1;34m(predicted_moves, available_moves)\u001b[0m\n\u001b[0;32m     12\u001b[0m \u001b[1;33m\u001b[0m\u001b[0m\n\u001b[0;32m     13\u001b[0m     \u001b[1;32mwhile\u001b[0m \u001b[1;32mTrue\u001b[0m\u001b[1;33m:\u001b[0m\u001b[1;33m\u001b[0m\u001b[1;33m\u001b[0m\u001b[0m\n\u001b[1;32m---> 14\u001b[1;33m         \u001b[0mmove\u001b[0m \u001b[1;33m=\u001b[0m \u001b[0mpredicted_moves\u001b[0m\u001b[1;33m.\u001b[0m\u001b[0mindex\u001b[0m\u001b[1;33m(\u001b[0m\u001b[0mmax\u001b[0m\u001b[1;33m(\u001b[0m\u001b[0mpredicted_moves\u001b[0m\u001b[1;33m)\u001b[0m\u001b[1;33m)\u001b[0m\u001b[1;33m\u001b[0m\u001b[1;33m\u001b[0m\u001b[0m\n\u001b[0m\u001b[0;32m     15\u001b[0m         \u001b[0mpredicted_moves\u001b[0m\u001b[1;33m[\u001b[0m\u001b[0mmove\u001b[0m\u001b[1;33m]\u001b[0m \u001b[1;33m=\u001b[0m \u001b[1;36m0\u001b[0m\u001b[1;33m\u001b[0m\u001b[1;33m\u001b[0m\u001b[0m\n\u001b[0;32m     16\u001b[0m \u001b[1;33m\u001b[0m\u001b[0m\n",
      "\u001b[1;31mAttributeError\u001b[0m: 'Sequential' object has no attribute 'index'"
     ]
    }
   ],
   "source": [
    "make_prediction(parial_model, [-1,-1,1,1,0,-1,-1,1,1])"
   ]
  },
  {
   "cell_type": "code",
   "execution_count": 46,
   "metadata": {},
   "outputs": [
    {
     "name": "stdout",
     "output_type": "stream",
     "text": [
      "[0.0, 0.0, 0.0, 0.9998913, 0.0, 5.231348e-07, 0.0, 0.00010825082, 0.0]\n",
      "3\n"
     ]
    }
   ],
   "source": [
    "make_prediction(parial_model, [-1,-1, 0,\n",
    "                                1, 0,-1,\n",
    "                               -1, 1, 1])"
   ]
  },
  {
   "cell_type": "code",
   "execution_count": 47,
   "metadata": {},
   "outputs": [
    {
     "data": {
      "text/plain": [
       "[0.0, 0.0, 0.0, 0.9998913, 0.0, 5.231348e-07, 0.0, 0.00010825082, 0.0]"
      ]
     },
     "execution_count": 47,
     "metadata": {},
     "output_type": "execute_result"
    }
   ],
   "source": [
    "#prediction\n",
    "[0.0, 0.0, 0.0, \n",
    " 0.9998913, 0.0, 5.231348e-07, \n",
    " 0.0, 0.00010825082, 0.0]"
   ]
  },
  {
   "cell_type": "code",
   "execution_count": 2,
   "metadata": {},
   "outputs": [],
   "source": [
    "def make_prediction(model, board):\n",
    "    prediction_list = list(model.predict(np.array([board]))[0])\n",
    "    move = prediction_list.index(max(prediction_list))\n",
    "    print(prediction_list)\n",
    "    print(move)"
   ]
  },
  {
   "cell_type": "code",
   "execution_count": 3,
   "metadata": {},
   "outputs": [],
   "source": [
    "from keras.models import load_model\n",
    "parial_model = load_model('smart_model_partial.h5')\n",
    "\n",
    "from keras.models import load_model\n",
    "pre_model = load_model('pre-trainied_loss_model.h5')"
   ]
  },
  {
   "cell_type": "code",
   "execution_count": 5,
   "metadata": {},
   "outputs": [
    {
     "name": "stdout",
     "output_type": "stream",
     "text": [
      "[0.0, 0.0, 0.0, 0.99989116, 0.0, 5.231028e-07, 0.0, 0.0001082475, 0.0]\n",
      "3\n"
     ]
    }
   ],
   "source": [
    "make_prediction(pre_model, [-1,-1, 0,\n",
    "                                1, 0,-1,\n",
    "                               -1, 1, 1])"
   ]
  },
  {
   "cell_type": "code",
   "execution_count": 21,
   "metadata": {},
   "outputs": [],
   "source": [
    "current_board = [[0,0,0],[0,0,0],[0,0,0]]\n",
    "\n",
    "def board_to_prediction_list(board):\n",
    "    vector_board = []\n",
    "    for row in board:\n",
    "        vector_board += row\n",
    "    np_board = np.array([vector_board])\n",
    "\n",
    "    return list(model.predict(np_board)[0])\n",
    "\n",
    "from random import choice\n",
    "def make_prediction(predicted_moves, available_moves):\n",
    "    \n",
    "    while sum(predicted_moves):\n",
    "        print(predicted_moves)\n",
    "        move = predicted_moves.index(max(predicted_moves))\n",
    "        predicted_moves[move] = 0\n",
    "        print(move)\n",
    "        \n",
    "        \n",
    "        if move in available_moves:\n",
    "            return move\n",
    "        \n",
    "    return choice(list(available_moves))\n"
   ]
  },
  {
   "cell_type": "code",
   "execution_count": 22,
   "metadata": {},
   "outputs": [
    {
     "name": "stdout",
     "output_type": "stream",
     "text": [
      "[0.0, 0.0, 0.0, 0.99989116, 0.0, 5.231028e-07, 0.0, 0.0001082475, 0.0]\n",
      "3\n",
      "[0.0, 0.0, 0.0, 0, 0.0, 5.231028e-07, 0.0, 0.0001082475, 0.0]\n",
      "7\n",
      "[0.0, 0.0, 0.0, 0, 0.0, 5.231028e-07, 0.0, 0, 0.0]\n",
      "5\n"
     ]
    },
    {
     "data": {
      "text/plain": [
       "2"
      ]
     },
     "execution_count": 22,
     "metadata": {},
     "output_type": "execute_result"
    }
   ],
   "source": [
    "make_prediction([0.0, 0.0, 0.0, 0.99989116, 0.0, 5.231028e-07, 0.0, 0.0001082475, 0.0],{2,4})"
   ]
  },
  {
   "cell_type": "code",
   "execution_count": 11,
   "metadata": {},
   "outputs": [
    {
     "data": {
      "text/plain": [
       "0"
      ]
     },
     "execution_count": 11,
     "metadata": {},
     "output_type": "execute_result"
    }
   ],
   "source": [
    "[0,0].index(max([0,0]))"
   ]
  },
  {
   "cell_type": "code",
   "execution_count": null,
   "metadata": {},
   "outputs": [],
   "source": []
  }
 ],
 "metadata": {
  "kernelspec": {
   "display_name": "Python 3",
   "language": "python",
   "name": "python3"
  },
  "language_info": {
   "codemirror_mode": {
    "name": "ipython",
    "version": 3
   },
   "file_extension": ".py",
   "mimetype": "text/x-python",
   "name": "python",
   "nbconvert_exporter": "python",
   "pygments_lexer": "ipython3",
   "version": "3.6.8"
  }
 },
 "nbformat": 4,
 "nbformat_minor": 2
}
